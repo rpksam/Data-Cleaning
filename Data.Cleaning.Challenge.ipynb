{
 "cells": [
  {
   "cell_type": "markdown",
   "id": "4c9854a5-949b-4b36-bb93-3b0a0e1692e5",
   "metadata": {},
   "source": [
    "## DATA CLEANING CHALLENGE"
   ]
  },
  {
   "cell_type": "code",
   "execution_count": 1,
   "id": "248c6c9c-a959-4fb9-802b-5759be30a263",
   "metadata": {},
   "outputs": [],
   "source": [
    "#importing libraries\n",
    "import pandas as pd\n",
    "import numpy as np"
   ]
  },
  {
   "cell_type": "code",
   "execution_count": 2,
   "id": "b154a164-f4ca-4700-b932-1ffbf0afa055",
   "metadata": {},
   "outputs": [],
   "source": [
    "#Loading dataset\n",
    "df = pd.read_csv(\"FIFA_21_Dataset.csv\", low_memory = False)"
   ]
  },
  {
   "cell_type": "markdown",
   "id": "427d5456-e01f-44bf-8451-faf1641f3c6f",
   "metadata": {},
   "source": [
    "### Understanding the Data\n"
   ]
  },
  {
   "cell_type": "code",
   "execution_count": 3,
   "id": "2df643b6-e21b-47bd-be87-cabad86d6bd6",
   "metadata": {},
   "outputs": [
    {
     "data": {
      "text/plain": [
       "(18979, 77)"
      ]
     },
     "execution_count": 3,
     "metadata": {},
     "output_type": "execute_result"
    }
   ],
   "source": [
    "#looking out for number of rows and cols.\n",
    "df.shape"
   ]
  },
  {
   "cell_type": "code",
   "execution_count": 4,
   "id": "522f4e9f-dfbf-4539-87ff-597a08484a4b",
   "metadata": {},
   "outputs": [
    {
     "data": {
      "text/html": [
       "<div>\n",
       "<style scoped>\n",
       "    .dataframe tbody tr th:only-of-type {\n",
       "        vertical-align: middle;\n",
       "    }\n",
       "\n",
       "    .dataframe tbody tr th {\n",
       "        vertical-align: top;\n",
       "    }\n",
       "\n",
       "    .dataframe thead th {\n",
       "        text-align: right;\n",
       "    }\n",
       "</style>\n",
       "<table border=\"1\" class=\"dataframe\">\n",
       "  <thead>\n",
       "    <tr style=\"text-align: right;\">\n",
       "      <th></th>\n",
       "      <th>ID</th>\n",
       "      <th>Name</th>\n",
       "      <th>LongName</th>\n",
       "      <th>photoUrl</th>\n",
       "      <th>playerUrl</th>\n",
       "      <th>Nationality</th>\n",
       "      <th>Age</th>\n",
       "      <th>↓OVA</th>\n",
       "      <th>POT</th>\n",
       "      <th>Club</th>\n",
       "      <th>...</th>\n",
       "      <th>A/W</th>\n",
       "      <th>D/W</th>\n",
       "      <th>IR</th>\n",
       "      <th>PAC</th>\n",
       "      <th>SHO</th>\n",
       "      <th>PAS</th>\n",
       "      <th>DRI</th>\n",
       "      <th>DEF</th>\n",
       "      <th>PHY</th>\n",
       "      <th>Hits</th>\n",
       "    </tr>\n",
       "  </thead>\n",
       "  <tbody>\n",
       "    <tr>\n",
       "      <th>14873</th>\n",
       "      <td>245787</td>\n",
       "      <td>Iván Martínez</td>\n",
       "      <td>Iván Martínez Marqués</td>\n",
       "      <td>https://cdn.sofifa.com/players/245/787/21_60.png</td>\n",
       "      <td>http://sofifa.com/player/245787/ivan-martinez-...</td>\n",
       "      <td>Spain</td>\n",
       "      <td>18</td>\n",
       "      <td>60</td>\n",
       "      <td>81</td>\n",
       "      <td>\\n\\n\\n\\nCA Osasuna</td>\n",
       "      <td>...</td>\n",
       "      <td>Medium</td>\n",
       "      <td>Medium</td>\n",
       "      <td>1 ★</td>\n",
       "      <td>61</td>\n",
       "      <td>64</td>\n",
       "      <td>60</td>\n",
       "      <td>61</td>\n",
       "      <td>31</td>\n",
       "      <td>57</td>\n",
       "      <td>63</td>\n",
       "    </tr>\n",
       "    <tr>\n",
       "      <th>2620</th>\n",
       "      <td>234505</td>\n",
       "      <td>Evander</td>\n",
       "      <td>Evander da Silva Ferreira</td>\n",
       "      <td>https://cdn.sofifa.com/players/234/505/21_60.png</td>\n",
       "      <td>http://sofifa.com/player/234505/evander-da-sil...</td>\n",
       "      <td>Brazil</td>\n",
       "      <td>22</td>\n",
       "      <td>73</td>\n",
       "      <td>81</td>\n",
       "      <td>\\n\\n\\n\\nFC Midtjylland</td>\n",
       "      <td>...</td>\n",
       "      <td>High</td>\n",
       "      <td>Low</td>\n",
       "      <td>1 ★</td>\n",
       "      <td>70</td>\n",
       "      <td>69</td>\n",
       "      <td>72</td>\n",
       "      <td>80</td>\n",
       "      <td>56</td>\n",
       "      <td>58</td>\n",
       "      <td>76</td>\n",
       "    </tr>\n",
       "    <tr>\n",
       "      <th>3631</th>\n",
       "      <td>240837</td>\n",
       "      <td>M. Yandaş</td>\n",
       "      <td>Mert Hakan Yandaş</td>\n",
       "      <td>https://cdn.sofifa.com/players/240/837/21_60.png</td>\n",
       "      <td>http://sofifa.com/player/240837/mert-hakan-yan...</td>\n",
       "      <td>Turkey</td>\n",
       "      <td>25</td>\n",
       "      <td>72</td>\n",
       "      <td>75</td>\n",
       "      <td>\\n\\n\\n\\nFenerbahçe SK</td>\n",
       "      <td>...</td>\n",
       "      <td>High</td>\n",
       "      <td>High</td>\n",
       "      <td>1 ★</td>\n",
       "      <td>72</td>\n",
       "      <td>63</td>\n",
       "      <td>72</td>\n",
       "      <td>73</td>\n",
       "      <td>44</td>\n",
       "      <td>61</td>\n",
       "      <td>22</td>\n",
       "    </tr>\n",
       "    <tr>\n",
       "      <th>4223</th>\n",
       "      <td>200601</td>\n",
       "      <td>Yoon Bit Garam</td>\n",
       "      <td>Bit Garam Yoon</td>\n",
       "      <td>https://cdn.sofifa.com/players/200/601/21_60.png</td>\n",
       "      <td>http://sofifa.com/player/200601/bit-garam-yoon...</td>\n",
       "      <td>Korea Republic</td>\n",
       "      <td>30</td>\n",
       "      <td>71</td>\n",
       "      <td>71</td>\n",
       "      <td>\\n\\n\\n\\nUlsan Hyundai FC</td>\n",
       "      <td>...</td>\n",
       "      <td>Medium</td>\n",
       "      <td>Medium</td>\n",
       "      <td>2 ★</td>\n",
       "      <td>72</td>\n",
       "      <td>67</td>\n",
       "      <td>72</td>\n",
       "      <td>68</td>\n",
       "      <td>58</td>\n",
       "      <td>71</td>\n",
       "      <td>3</td>\n",
       "    </tr>\n",
       "    <tr>\n",
       "      <th>611</th>\n",
       "      <td>206304</td>\n",
       "      <td>L. Milivojević</td>\n",
       "      <td>Luka Milivojević</td>\n",
       "      <td>https://cdn.sofifa.com/players/206/304/21_60.png</td>\n",
       "      <td>http://sofifa.com/player/206304/luka-milivojev...</td>\n",
       "      <td>Serbia</td>\n",
       "      <td>29</td>\n",
       "      <td>79</td>\n",
       "      <td>79</td>\n",
       "      <td>\\n\\n\\n\\nCrystal Palace</td>\n",
       "      <td>...</td>\n",
       "      <td>Medium</td>\n",
       "      <td>High</td>\n",
       "      <td>1 ★</td>\n",
       "      <td>54</td>\n",
       "      <td>67</td>\n",
       "      <td>76</td>\n",
       "      <td>67</td>\n",
       "      <td>77</td>\n",
       "      <td>82</td>\n",
       "      <td>40</td>\n",
       "    </tr>\n",
       "    <tr>\n",
       "      <th>18183</th>\n",
       "      <td>257865</td>\n",
       "      <td>J. Jones</td>\n",
       "      <td>James Jones</td>\n",
       "      <td>https://cdn.sofifa.com/players/257/865/21_60.png</td>\n",
       "      <td>http://sofifa.com/player/257865/james-jones/21...</td>\n",
       "      <td>Wales</td>\n",
       "      <td>23</td>\n",
       "      <td>53</td>\n",
       "      <td>62</td>\n",
       "      <td>\\n\\n\\n\\nBarrow</td>\n",
       "      <td>...</td>\n",
       "      <td>Medium</td>\n",
       "      <td>Medium</td>\n",
       "      <td>1 ★</td>\n",
       "      <td>66</td>\n",
       "      <td>31</td>\n",
       "      <td>38</td>\n",
       "      <td>50</td>\n",
       "      <td>51</td>\n",
       "      <td>62</td>\n",
       "      <td>NaN</td>\n",
       "    </tr>\n",
       "    <tr>\n",
       "      <th>1026</th>\n",
       "      <td>221832</td>\n",
       "      <td>L. Olaza</td>\n",
       "      <td>Lucas Olaza</td>\n",
       "      <td>https://cdn.sofifa.com/players/221/832/21_60.png</td>\n",
       "      <td>http://sofifa.com/player/221832/lucas-olaza/21...</td>\n",
       "      <td>Uruguay</td>\n",
       "      <td>25</td>\n",
       "      <td>77</td>\n",
       "      <td>80</td>\n",
       "      <td>\\n\\n\\n\\nRC Celta</td>\n",
       "      <td>...</td>\n",
       "      <td>High</td>\n",
       "      <td>Medium</td>\n",
       "      <td>1 ★</td>\n",
       "      <td>76</td>\n",
       "      <td>71</td>\n",
       "      <td>74</td>\n",
       "      <td>74</td>\n",
       "      <td>73</td>\n",
       "      <td>70</td>\n",
       "      <td>31</td>\n",
       "    </tr>\n",
       "  </tbody>\n",
       "</table>\n",
       "<p>7 rows × 77 columns</p>\n",
       "</div>"
      ],
      "text/plain": [
       "           ID            Name                   LongName  \\\n",
       "14873  245787   Iván Martínez      Iván Martínez Marqués   \n",
       "2620   234505         Evander  Evander da Silva Ferreira   \n",
       "3631   240837       M. Yandaş          Mert Hakan Yandaş   \n",
       "4223   200601  Yoon Bit Garam             Bit Garam Yoon   \n",
       "611    206304  L. Milivojević           Luka Milivojević   \n",
       "18183  257865        J. Jones                James Jones   \n",
       "1026   221832        L. Olaza                Lucas Olaza   \n",
       "\n",
       "                                               photoUrl  \\\n",
       "14873  https://cdn.sofifa.com/players/245/787/21_60.png   \n",
       "2620   https://cdn.sofifa.com/players/234/505/21_60.png   \n",
       "3631   https://cdn.sofifa.com/players/240/837/21_60.png   \n",
       "4223   https://cdn.sofifa.com/players/200/601/21_60.png   \n",
       "611    https://cdn.sofifa.com/players/206/304/21_60.png   \n",
       "18183  https://cdn.sofifa.com/players/257/865/21_60.png   \n",
       "1026   https://cdn.sofifa.com/players/221/832/21_60.png   \n",
       "\n",
       "                                               playerUrl     Nationality  Age  \\\n",
       "14873  http://sofifa.com/player/245787/ivan-martinez-...           Spain   18   \n",
       "2620   http://sofifa.com/player/234505/evander-da-sil...          Brazil   22   \n",
       "3631   http://sofifa.com/player/240837/mert-hakan-yan...          Turkey   25   \n",
       "4223   http://sofifa.com/player/200601/bit-garam-yoon...  Korea Republic   30   \n",
       "611    http://sofifa.com/player/206304/luka-milivojev...          Serbia   29   \n",
       "18183  http://sofifa.com/player/257865/james-jones/21...           Wales   23   \n",
       "1026   http://sofifa.com/player/221832/lucas-olaza/21...         Uruguay   25   \n",
       "\n",
       "       ↓OVA  POT                      Club  ...     A/W     D/W   IR PAC SHO  \\\n",
       "14873    60   81        \\n\\n\\n\\nCA Osasuna  ...  Medium  Medium  1 ★  61  64   \n",
       "2620     73   81    \\n\\n\\n\\nFC Midtjylland  ...    High     Low  1 ★  70  69   \n",
       "3631     72   75     \\n\\n\\n\\nFenerbahçe SK  ...    High    High  1 ★  72  63   \n",
       "4223     71   71  \\n\\n\\n\\nUlsan Hyundai FC  ...  Medium  Medium  2 ★  72  67   \n",
       "611      79   79    \\n\\n\\n\\nCrystal Palace  ...  Medium    High  1 ★  54  67   \n",
       "18183    53   62            \\n\\n\\n\\nBarrow  ...  Medium  Medium  1 ★  66  31   \n",
       "1026     77   80          \\n\\n\\n\\nRC Celta  ...    High  Medium  1 ★  76  71   \n",
       "\n",
       "       PAS DRI DEF PHY Hits  \n",
       "14873   60  61  31  57   63  \n",
       "2620    72  80  56  58   76  \n",
       "3631    72  73  44  61   22  \n",
       "4223    72  68  58  71    3  \n",
       "611     76  67  77  82   40  \n",
       "18183   38  50  51  62  NaN  \n",
       "1026    74  74  73  70   31  \n",
       "\n",
       "[7 rows x 77 columns]"
      ]
     },
     "execution_count": 4,
     "metadata": {},
     "output_type": "execute_result"
    }
   ],
   "source": [
    "#Obtaining a sample of the dataset to have a look at how it looks\n",
    "df.sample(7)"
   ]
  },
  {
   "cell_type": "code",
   "execution_count": 5,
   "id": "fc2a2aab-8162-4cc9-840c-cb897b71f70c",
   "metadata": {},
   "outputs": [
    {
     "name": "stdout",
     "output_type": "stream",
     "text": [
      "<class 'pandas.core.frame.DataFrame'>\n",
      "RangeIndex: 18979 entries, 0 to 18978\n",
      "Data columns (total 77 columns):\n",
      " #   Column            Non-Null Count  Dtype \n",
      "---  ------            --------------  ----- \n",
      " 0   ID                18979 non-null  int64 \n",
      " 1   Name              18979 non-null  object\n",
      " 2   LongName          18979 non-null  object\n",
      " 3   photoUrl          18979 non-null  object\n",
      " 4   playerUrl         18979 non-null  object\n",
      " 5   Nationality       18979 non-null  object\n",
      " 6   Age               18979 non-null  int64 \n",
      " 7   ↓OVA              18979 non-null  int64 \n",
      " 8   POT               18979 non-null  int64 \n",
      " 9   Club              18979 non-null  object\n",
      " 10  Contract          18979 non-null  object\n",
      " 11  Positions         18979 non-null  object\n",
      " 12  Height            18979 non-null  object\n",
      " 13  Weight            18979 non-null  object\n",
      " 14  Preferred Foot    18979 non-null  object\n",
      " 15  BOV               18979 non-null  int64 \n",
      " 16  Best Position     18979 non-null  object\n",
      " 17  Joined            18979 non-null  object\n",
      " 18  Loan Date End     1013 non-null   object\n",
      " 19  Value             18979 non-null  object\n",
      " 20  Wage              18979 non-null  object\n",
      " 21  Release Clause    18979 non-null  object\n",
      " 22  Attacking         18979 non-null  int64 \n",
      " 23  Crossing          18979 non-null  int64 \n",
      " 24  Finishing         18979 non-null  int64 \n",
      " 25  Heading Accuracy  18979 non-null  int64 \n",
      " 26  Short Passing     18979 non-null  int64 \n",
      " 27  Volleys           18979 non-null  int64 \n",
      " 28  Skill             18979 non-null  int64 \n",
      " 29  Dribbling         18979 non-null  int64 \n",
      " 30  Curve             18979 non-null  int64 \n",
      " 31  FK Accuracy       18979 non-null  int64 \n",
      " 32  Long Passing      18979 non-null  int64 \n",
      " 33  Ball Control      18979 non-null  int64 \n",
      " 34  Movement          18979 non-null  int64 \n",
      " 35  Acceleration      18979 non-null  int64 \n",
      " 36  Sprint Speed      18979 non-null  int64 \n",
      " 37  Agility           18979 non-null  int64 \n",
      " 38  Reactions         18979 non-null  int64 \n",
      " 39  Balance           18979 non-null  int64 \n",
      " 40  Power             18979 non-null  int64 \n",
      " 41  Shot Power        18979 non-null  int64 \n",
      " 42  Jumping           18979 non-null  int64 \n",
      " 43  Stamina           18979 non-null  int64 \n",
      " 44  Strength          18979 non-null  int64 \n",
      " 45  Long Shots        18979 non-null  int64 \n",
      " 46  Mentality         18979 non-null  int64 \n",
      " 47  Aggression        18979 non-null  int64 \n",
      " 48  Interceptions     18979 non-null  int64 \n",
      " 49  Positioning       18979 non-null  int64 \n",
      " 50  Vision            18979 non-null  int64 \n",
      " 51  Penalties         18979 non-null  int64 \n",
      " 52  Composure         18979 non-null  int64 \n",
      " 53  Defending         18979 non-null  int64 \n",
      " 54  Marking           18979 non-null  int64 \n",
      " 55  Standing Tackle   18979 non-null  int64 \n",
      " 56  Sliding Tackle    18979 non-null  int64 \n",
      " 57  Goalkeeping       18979 non-null  int64 \n",
      " 58  GK Diving         18979 non-null  int64 \n",
      " 59  GK Handling       18979 non-null  int64 \n",
      " 60  GK Kicking        18979 non-null  int64 \n",
      " 61  GK Positioning    18979 non-null  int64 \n",
      " 62  GK Reflexes       18979 non-null  int64 \n",
      " 63  Total Stats       18979 non-null  int64 \n",
      " 64  Base Stats        18979 non-null  int64 \n",
      " 65  W/F               18979 non-null  object\n",
      " 66  SM                18979 non-null  object\n",
      " 67  A/W               18979 non-null  object\n",
      " 68  D/W               18979 non-null  object\n",
      " 69  IR                18979 non-null  object\n",
      " 70  PAC               18979 non-null  int64 \n",
      " 71  SHO               18979 non-null  int64 \n",
      " 72  PAS               18979 non-null  int64 \n",
      " 73  DRI               18979 non-null  int64 \n",
      " 74  DEF               18979 non-null  int64 \n",
      " 75  PHY               18979 non-null  int64 \n",
      " 76  Hits              16384 non-null  object\n",
      "dtypes: int64(54), object(23)\n",
      "memory usage: 11.1+ MB\n",
      "None\n"
     ]
    }
   ],
   "source": [
    "#Obtaining information about the dataset to view column names and their respective data types\n",
    "print(df.info())\n",
    "\n",
    "#Two main data types can be seen here namely: integers(54) and objects[23 (which means they contain more than one data type and must be dealth with)]\n",
    "#Some column names needs to be renamed\n",
    "#Also, there are a number of null values in some columns"
   ]
  },
  {
   "cell_type": "code",
   "execution_count": 6,
   "id": "e28e275e-ccf6-4568-b76f-d793fd1741c1",
   "metadata": {},
   "outputs": [],
   "source": [
    "#Renaming some column names\n",
    "df.rename(columns={\"ID\":\"Player ID\", \"↓OVA\": \"Overall Rating\", \"Name\":\"Jersey Name\", \"LongName\":\"Full Name\", \"W/F\":\"Weak Foot\", \"SM\":\"Skill Moves\", \"A/W\":\"Attack Work Rate\", \n",
    "                    \"D/W\": \"Defense Work Rate\", \"IR\":\"Injury Resistance\", \"PAC\":\"Pace\", \"SHO\":\"Shooting Ability\", \"PAS\":\"Passing Ability\", \n",
    "                    \"DRI\":\"Dribbling Ability\", \"DEF\":\"Defensive Ability\", \"PHY\":\"Physicality\", \"POT\":\"Potential Rating\", \"BOV\":\"Best Overall Rating\",\n",
    "                    \"Joined\":\"Date Joined\"}, inplace=True)"
   ]
  },
  {
   "cell_type": "code",
   "execution_count": 7,
   "id": "1f2fb0a4-8e2e-459b-90a3-4da93d9bee2e",
   "metadata": {},
   "outputs": [
    {
     "name": "stdout",
     "output_type": "stream",
     "text": [
      "Index(['Jersey Name', 'Full Name', 'photoUrl', 'playerUrl', 'Nationality',\n",
      "       'Club', 'Contract', 'Positions', 'Height', 'Weight', 'Preferred Foot',\n",
      "       'Best Position', 'Date Joined', 'Loan Date End', 'Value', 'Wage',\n",
      "       'Release Clause', 'Weak Foot', 'Skill Moves', 'Attack Work Rate',\n",
      "       'Defense Work Rate', 'Injury Resistance', 'Hits'],\n",
      "      dtype='object')\n",
      "Index(['Player ID', 'Age', 'Overall Rating', 'Potential Rating',\n",
      "       'Best Overall Rating', 'Attacking', 'Crossing', 'Finishing',\n",
      "       'Heading Accuracy', 'Short Passing', 'Volleys', 'Skill', 'Dribbling',\n",
      "       'Curve', 'FK Accuracy', 'Long Passing', 'Ball Control', 'Movement',\n",
      "       'Acceleration', 'Sprint Speed', 'Agility', 'Reactions', 'Balance',\n",
      "       'Power', 'Shot Power', 'Jumping', 'Stamina', 'Strength', 'Long Shots',\n",
      "       'Mentality', 'Aggression', 'Interceptions', 'Positioning', 'Vision',\n",
      "       'Penalties', 'Composure', 'Defending', 'Marking', 'Standing Tackle',\n",
      "       'Sliding Tackle', 'Goalkeeping', 'GK Diving', 'GK Handling',\n",
      "       'GK Kicking', 'GK Positioning', 'GK Reflexes', 'Total Stats',\n",
      "       'Base Stats', 'Pace', 'Shooting Ability', 'Passing Ability',\n",
      "       'Dribbling Ability', 'Defensive Ability', 'Physicality'],\n",
      "      dtype='object')\n"
     ]
    }
   ],
   "source": [
    "#Extracting object columns and integer columns\n",
    "Cols_objects = df.select_dtypes(include = [\"object\"]).columns\n",
    "Cols_integers = df.select_dtypes(include = [\"int64\"]).columns\n",
    "\n",
    "print(Cols_objects)\n",
    "print(Cols_integers)"
   ]
  },
  {
   "cell_type": "code",
   "execution_count": 8,
   "id": "9da7f0d9-5d2b-438d-82da-bf372177dc1b",
   "metadata": {},
   "outputs": [
    {
     "data": {
      "text/plain": [
       "False"
      ]
     },
     "execution_count": 8,
     "metadata": {},
     "output_type": "execute_result"
    }
   ],
   "source": [
    "#Checking for duplicates in the dataset\n",
    "\n",
    "df.duplicated().any()\n",
    "\n",
    "#We are good to go as there are no duplicated rows or columns"
   ]
  },
  {
   "cell_type": "code",
   "execution_count": 9,
   "id": "7af4f4c6-3445-43d9-bb21-ba593bb3ca16",
   "metadata": {},
   "outputs": [
    {
     "data": {
      "text/plain": [
       "['Loan Date End', 'Hits']"
      ]
     },
     "execution_count": 9,
     "metadata": {},
     "output_type": "execute_result"
    }
   ],
   "source": [
    "#Extracting all columns with null values\n",
    "\n",
    "df.columns[df.isna().any()].tolist()\n",
    "\n",
    "#These are the only columns with null values worth cleaning"
   ]
  },
  {
   "cell_type": "markdown",
   "id": "2c8fa1b3-b802-46ab-a595-603cb854d9f3",
   "metadata": {},
   "source": [
    "### Examining the integer columns as a stand alone group"
   ]
  },
  {
   "cell_type": "code",
   "execution_count": 10,
   "id": "bccded61-23d0-4a68-93e5-a9e3109fdcff",
   "metadata": {},
   "outputs": [
    {
     "data": {
      "text/plain": [
       "[]"
      ]
     },
     "execution_count": 10,
     "metadata": {},
     "output_type": "execute_result"
    }
   ],
   "source": [
    "  #Obtaining columns with null values\n",
    "df[Cols_integers].columns[df[Cols_integers].isna().any()].tolist()\n",
    "\n",
    "#There is no column in the Cols_integers having null values. This means all columns with null values belong to Cols_objects."
   ]
  },
  {
   "cell_type": "code",
   "execution_count": 11,
   "id": "64b3fd5a-c93e-4116-9469-0b0baf245e6d",
   "metadata": {},
   "outputs": [
    {
     "data": {
      "text/html": [
       "<div>\n",
       "<style scoped>\n",
       "    .dataframe tbody tr th:only-of-type {\n",
       "        vertical-align: middle;\n",
       "    }\n",
       "\n",
       "    .dataframe tbody tr th {\n",
       "        vertical-align: top;\n",
       "    }\n",
       "\n",
       "    .dataframe thead th {\n",
       "        text-align: right;\n",
       "    }\n",
       "</style>\n",
       "<table border=\"1\" class=\"dataframe\">\n",
       "  <thead>\n",
       "    <tr style=\"text-align: right;\">\n",
       "      <th></th>\n",
       "      <th>Player ID</th>\n",
       "      <th>Age</th>\n",
       "      <th>Overall Rating</th>\n",
       "      <th>Potential Rating</th>\n",
       "      <th>Best Overall Rating</th>\n",
       "      <th>Attacking</th>\n",
       "      <th>Crossing</th>\n",
       "      <th>Finishing</th>\n",
       "      <th>Heading Accuracy</th>\n",
       "      <th>Short Passing</th>\n",
       "      <th>...</th>\n",
       "      <th>GK Positioning</th>\n",
       "      <th>GK Reflexes</th>\n",
       "      <th>Total Stats</th>\n",
       "      <th>Base Stats</th>\n",
       "      <th>Pace</th>\n",
       "      <th>Shooting Ability</th>\n",
       "      <th>Passing Ability</th>\n",
       "      <th>Dribbling Ability</th>\n",
       "      <th>Defensive Ability</th>\n",
       "      <th>Physicality</th>\n",
       "    </tr>\n",
       "  </thead>\n",
       "  <tbody>\n",
       "    <tr>\n",
       "      <th>count</th>\n",
       "      <td>18979.000000</td>\n",
       "      <td>18979.000000</td>\n",
       "      <td>18979.000000</td>\n",
       "      <td>18979.000000</td>\n",
       "      <td>18979.000000</td>\n",
       "      <td>18979.000000</td>\n",
       "      <td>18979.000000</td>\n",
       "      <td>18979.000000</td>\n",
       "      <td>18979.000000</td>\n",
       "      <td>18979.000000</td>\n",
       "      <td>...</td>\n",
       "      <td>18979.000000</td>\n",
       "      <td>18979.000000</td>\n",
       "      <td>18979.000000</td>\n",
       "      <td>18979.000000</td>\n",
       "      <td>18979.000000</td>\n",
       "      <td>18979.000000</td>\n",
       "      <td>18979.000000</td>\n",
       "      <td>18979.000000</td>\n",
       "      <td>18979.000000</td>\n",
       "      <td>18979.000000</td>\n",
       "    </tr>\n",
       "    <tr>\n",
       "      <th>mean</th>\n",
       "      <td>226403.384794</td>\n",
       "      <td>25.194109</td>\n",
       "      <td>65.718636</td>\n",
       "      <td>71.136414</td>\n",
       "      <td>66.751726</td>\n",
       "      <td>248.938142</td>\n",
       "      <td>49.688392</td>\n",
       "      <td>45.842405</td>\n",
       "      <td>51.942726</td>\n",
       "      <td>58.768112</td>\n",
       "      <td>...</td>\n",
       "      <td>16.217187</td>\n",
       "      <td>16.519627</td>\n",
       "      <td>1595.286949</td>\n",
       "      <td>355.702197</td>\n",
       "      <td>67.453975</td>\n",
       "      <td>53.457031</td>\n",
       "      <td>57.681016</td>\n",
       "      <td>62.875020</td>\n",
       "      <td>49.866221</td>\n",
       "      <td>64.368934</td>\n",
       "    </tr>\n",
       "    <tr>\n",
       "      <th>std</th>\n",
       "      <td>27141.054157</td>\n",
       "      <td>4.710520</td>\n",
       "      <td>6.968999</td>\n",
       "      <td>6.114635</td>\n",
       "      <td>6.747193</td>\n",
       "      <td>74.299428</td>\n",
       "      <td>18.131153</td>\n",
       "      <td>19.567081</td>\n",
       "      <td>17.294409</td>\n",
       "      <td>14.519106</td>\n",
       "      <td>...</td>\n",
       "      <td>17.002239</td>\n",
       "      <td>17.854079</td>\n",
       "      <td>269.874789</td>\n",
       "      <td>40.761117</td>\n",
       "      <td>10.677859</td>\n",
       "      <td>13.827425</td>\n",
       "      <td>10.081857</td>\n",
       "      <td>9.927415</td>\n",
       "      <td>16.443213</td>\n",
       "      <td>9.601883</td>\n",
       "    </tr>\n",
       "    <tr>\n",
       "      <th>min</th>\n",
       "      <td>41.000000</td>\n",
       "      <td>16.000000</td>\n",
       "      <td>47.000000</td>\n",
       "      <td>47.000000</td>\n",
       "      <td>48.000000</td>\n",
       "      <td>42.000000</td>\n",
       "      <td>6.000000</td>\n",
       "      <td>3.000000</td>\n",
       "      <td>5.000000</td>\n",
       "      <td>7.000000</td>\n",
       "      <td>...</td>\n",
       "      <td>2.000000</td>\n",
       "      <td>2.000000</td>\n",
       "      <td>747.000000</td>\n",
       "      <td>232.000000</td>\n",
       "      <td>25.000000</td>\n",
       "      <td>16.000000</td>\n",
       "      <td>25.000000</td>\n",
       "      <td>25.000000</td>\n",
       "      <td>12.000000</td>\n",
       "      <td>28.000000</td>\n",
       "    </tr>\n",
       "    <tr>\n",
       "      <th>25%</th>\n",
       "      <td>210135.000000</td>\n",
       "      <td>21.000000</td>\n",
       "      <td>61.000000</td>\n",
       "      <td>67.000000</td>\n",
       "      <td>62.000000</td>\n",
       "      <td>222.000000</td>\n",
       "      <td>38.000000</td>\n",
       "      <td>30.000000</td>\n",
       "      <td>44.000000</td>\n",
       "      <td>54.000000</td>\n",
       "      <td>...</td>\n",
       "      <td>8.000000</td>\n",
       "      <td>8.000000</td>\n",
       "      <td>1452.000000</td>\n",
       "      <td>327.000000</td>\n",
       "      <td>61.000000</td>\n",
       "      <td>44.000000</td>\n",
       "      <td>51.000000</td>\n",
       "      <td>57.000000</td>\n",
       "      <td>35.000000</td>\n",
       "      <td>58.000000</td>\n",
       "    </tr>\n",
       "    <tr>\n",
       "      <th>50%</th>\n",
       "      <td>232418.000000</td>\n",
       "      <td>25.000000</td>\n",
       "      <td>66.000000</td>\n",
       "      <td>71.000000</td>\n",
       "      <td>67.000000</td>\n",
       "      <td>263.000000</td>\n",
       "      <td>54.000000</td>\n",
       "      <td>49.000000</td>\n",
       "      <td>55.000000</td>\n",
       "      <td>62.000000</td>\n",
       "      <td>...</td>\n",
       "      <td>11.000000</td>\n",
       "      <td>11.000000</td>\n",
       "      <td>1627.000000</td>\n",
       "      <td>356.000000</td>\n",
       "      <td>68.000000</td>\n",
       "      <td>56.000000</td>\n",
       "      <td>58.000000</td>\n",
       "      <td>64.000000</td>\n",
       "      <td>53.000000</td>\n",
       "      <td>65.000000</td>\n",
       "    </tr>\n",
       "    <tr>\n",
       "      <th>75%</th>\n",
       "      <td>246922.500000</td>\n",
       "      <td>29.000000</td>\n",
       "      <td>70.000000</td>\n",
       "      <td>75.000000</td>\n",
       "      <td>71.000000</td>\n",
       "      <td>297.000000</td>\n",
       "      <td>63.000000</td>\n",
       "      <td>62.000000</td>\n",
       "      <td>64.000000</td>\n",
       "      <td>68.000000</td>\n",
       "      <td>...</td>\n",
       "      <td>14.000000</td>\n",
       "      <td>14.000000</td>\n",
       "      <td>1781.000000</td>\n",
       "      <td>384.000000</td>\n",
       "      <td>75.000000</td>\n",
       "      <td>64.000000</td>\n",
       "      <td>64.000000</td>\n",
       "      <td>69.000000</td>\n",
       "      <td>63.000000</td>\n",
       "      <td>71.000000</td>\n",
       "    </tr>\n",
       "    <tr>\n",
       "      <th>max</th>\n",
       "      <td>259216.000000</td>\n",
       "      <td>53.000000</td>\n",
       "      <td>93.000000</td>\n",
       "      <td>95.000000</td>\n",
       "      <td>93.000000</td>\n",
       "      <td>437.000000</td>\n",
       "      <td>94.000000</td>\n",
       "      <td>95.000000</td>\n",
       "      <td>93.000000</td>\n",
       "      <td>94.000000</td>\n",
       "      <td>...</td>\n",
       "      <td>91.000000</td>\n",
       "      <td>90.000000</td>\n",
       "      <td>2316.000000</td>\n",
       "      <td>498.000000</td>\n",
       "      <td>96.000000</td>\n",
       "      <td>93.000000</td>\n",
       "      <td>93.000000</td>\n",
       "      <td>95.000000</td>\n",
       "      <td>91.000000</td>\n",
       "      <td>91.000000</td>\n",
       "    </tr>\n",
       "  </tbody>\n",
       "</table>\n",
       "<p>8 rows × 54 columns</p>\n",
       "</div>"
      ],
      "text/plain": [
       "           Player ID           Age  Overall Rating  Potential Rating  \\\n",
       "count   18979.000000  18979.000000    18979.000000      18979.000000   \n",
       "mean   226403.384794     25.194109       65.718636         71.136414   \n",
       "std     27141.054157      4.710520        6.968999          6.114635   \n",
       "min        41.000000     16.000000       47.000000         47.000000   \n",
       "25%    210135.000000     21.000000       61.000000         67.000000   \n",
       "50%    232418.000000     25.000000       66.000000         71.000000   \n",
       "75%    246922.500000     29.000000       70.000000         75.000000   \n",
       "max    259216.000000     53.000000       93.000000         95.000000   \n",
       "\n",
       "       Best Overall Rating     Attacking      Crossing     Finishing  \\\n",
       "count         18979.000000  18979.000000  18979.000000  18979.000000   \n",
       "mean             66.751726    248.938142     49.688392     45.842405   \n",
       "std               6.747193     74.299428     18.131153     19.567081   \n",
       "min              48.000000     42.000000      6.000000      3.000000   \n",
       "25%              62.000000    222.000000     38.000000     30.000000   \n",
       "50%              67.000000    263.000000     54.000000     49.000000   \n",
       "75%              71.000000    297.000000     63.000000     62.000000   \n",
       "max              93.000000    437.000000     94.000000     95.000000   \n",
       "\n",
       "       Heading Accuracy  Short Passing  ...  GK Positioning   GK Reflexes  \\\n",
       "count      18979.000000   18979.000000  ...    18979.000000  18979.000000   \n",
       "mean          51.942726      58.768112  ...       16.217187     16.519627   \n",
       "std           17.294409      14.519106  ...       17.002239     17.854079   \n",
       "min            5.000000       7.000000  ...        2.000000      2.000000   \n",
       "25%           44.000000      54.000000  ...        8.000000      8.000000   \n",
       "50%           55.000000      62.000000  ...       11.000000     11.000000   \n",
       "75%           64.000000      68.000000  ...       14.000000     14.000000   \n",
       "max           93.000000      94.000000  ...       91.000000     90.000000   \n",
       "\n",
       "        Total Stats    Base Stats          Pace  Shooting Ability  \\\n",
       "count  18979.000000  18979.000000  18979.000000      18979.000000   \n",
       "mean    1595.286949    355.702197     67.453975         53.457031   \n",
       "std      269.874789     40.761117     10.677859         13.827425   \n",
       "min      747.000000    232.000000     25.000000         16.000000   \n",
       "25%     1452.000000    327.000000     61.000000         44.000000   \n",
       "50%     1627.000000    356.000000     68.000000         56.000000   \n",
       "75%     1781.000000    384.000000     75.000000         64.000000   \n",
       "max     2316.000000    498.000000     96.000000         93.000000   \n",
       "\n",
       "       Passing Ability  Dribbling Ability  Defensive Ability   Physicality  \n",
       "count     18979.000000       18979.000000       18979.000000  18979.000000  \n",
       "mean         57.681016          62.875020          49.866221     64.368934  \n",
       "std          10.081857           9.927415          16.443213      9.601883  \n",
       "min          25.000000          25.000000          12.000000     28.000000  \n",
       "25%          51.000000          57.000000          35.000000     58.000000  \n",
       "50%          58.000000          64.000000          53.000000     65.000000  \n",
       "75%          64.000000          69.000000          63.000000     71.000000  \n",
       "max          93.000000          95.000000          91.000000     91.000000  \n",
       "\n",
       "[8 rows x 54 columns]"
      ]
     },
     "execution_count": 11,
     "metadata": {},
     "output_type": "execute_result"
    }
   ],
   "source": [
    "#This column must be okay since we have no null values\n",
    "    #Let's see a snapshot of the description\n",
    "df[Cols_integers].describe()"
   ]
  },
  {
   "cell_type": "code",
   "execution_count": 12,
   "id": "051e9879-e625-4b6c-8948-065ad77c9692",
   "metadata": {},
   "outputs": [
    {
     "name": "stdout",
     "output_type": "stream",
     "text": [
      "<class 'pandas.core.frame.DataFrame'>\n",
      "RangeIndex: 18979 entries, 0 to 18978\n",
      "Data columns (total 54 columns):\n",
      " #   Column               Non-Null Count  Dtype\n",
      "---  ------               --------------  -----\n",
      " 0   Player ID            18979 non-null  int64\n",
      " 1   Age                  18979 non-null  int64\n",
      " 2   Overall Rating       18979 non-null  int64\n",
      " 3   Potential Rating     18979 non-null  int64\n",
      " 4   Best Overall Rating  18979 non-null  int64\n",
      " 5   Attacking            18979 non-null  int64\n",
      " 6   Crossing             18979 non-null  int64\n",
      " 7   Finishing            18979 non-null  int64\n",
      " 8   Heading Accuracy     18979 non-null  int64\n",
      " 9   Short Passing        18979 non-null  int64\n",
      " 10  Volleys              18979 non-null  int64\n",
      " 11  Skill                18979 non-null  int64\n",
      " 12  Dribbling            18979 non-null  int64\n",
      " 13  Curve                18979 non-null  int64\n",
      " 14  FK Accuracy          18979 non-null  int64\n",
      " 15  Long Passing         18979 non-null  int64\n",
      " 16  Ball Control         18979 non-null  int64\n",
      " 17  Movement             18979 non-null  int64\n",
      " 18  Acceleration         18979 non-null  int64\n",
      " 19  Sprint Speed         18979 non-null  int64\n",
      " 20  Agility              18979 non-null  int64\n",
      " 21  Reactions            18979 non-null  int64\n",
      " 22  Balance              18979 non-null  int64\n",
      " 23  Power                18979 non-null  int64\n",
      " 24  Shot Power           18979 non-null  int64\n",
      " 25  Jumping              18979 non-null  int64\n",
      " 26  Stamina              18979 non-null  int64\n",
      " 27  Strength             18979 non-null  int64\n",
      " 28  Long Shots           18979 non-null  int64\n",
      " 29  Mentality            18979 non-null  int64\n",
      " 30  Aggression           18979 non-null  int64\n",
      " 31  Interceptions        18979 non-null  int64\n",
      " 32  Positioning          18979 non-null  int64\n",
      " 33  Vision               18979 non-null  int64\n",
      " 34  Penalties            18979 non-null  int64\n",
      " 35  Composure            18979 non-null  int64\n",
      " 36  Defending            18979 non-null  int64\n",
      " 37  Marking              18979 non-null  int64\n",
      " 38  Standing Tackle      18979 non-null  int64\n",
      " 39  Sliding Tackle       18979 non-null  int64\n",
      " 40  Goalkeeping          18979 non-null  int64\n",
      " 41  GK Diving            18979 non-null  int64\n",
      " 42  GK Handling          18979 non-null  int64\n",
      " 43  GK Kicking           18979 non-null  int64\n",
      " 44  GK Positioning       18979 non-null  int64\n",
      " 45  GK Reflexes          18979 non-null  int64\n",
      " 46  Total Stats          18979 non-null  int64\n",
      " 47  Base Stats           18979 non-null  int64\n",
      " 48  Pace                 18979 non-null  int64\n",
      " 49  Shooting Ability     18979 non-null  int64\n",
      " 50  Passing Ability      18979 non-null  int64\n",
      " 51  Dribbling Ability    18979 non-null  int64\n",
      " 52  Defensive Ability    18979 non-null  int64\n",
      " 53  Physicality          18979 non-null  int64\n",
      "dtypes: int64(54)\n",
      "memory usage: 7.8 MB\n",
      "None\n"
     ]
    }
   ],
   "source": [
    "#Creating a new dataframe to store all cleaned columns\n",
    "\n",
    "cleaned_cols = df[Cols_integers].copy()\n",
    "print(cleaned_cols.info())"
   ]
  },
  {
   "cell_type": "markdown",
   "id": "4f40f789-9ab3-4a86-9541-fe2a33cf8472",
   "metadata": {},
   "source": [
    "### Exmaining the object columns as a stand alone column"
   ]
  },
  {
   "cell_type": "code",
   "execution_count": null,
   "id": "f2f7cfc6-7e0e-4829-9d84-0c8036eb2713",
   "metadata": {},
   "outputs": [],
   "source": [
    "# Note: this set of columns contains those two cols. with null values (i.e; Loan Date End col and Hits col.)"
   ]
  },
  {
   "cell_type": "code",
   "execution_count": 13,
   "id": "8ed31b59-bedb-4581-a7d4-44cb0421f21e",
   "metadata": {},
   "outputs": [
    {
     "data": {
      "text/html": [
       "<div>\n",
       "<style scoped>\n",
       "    .dataframe tbody tr th:only-of-type {\n",
       "        vertical-align: middle;\n",
       "    }\n",
       "\n",
       "    .dataframe tbody tr th {\n",
       "        vertical-align: top;\n",
       "    }\n",
       "\n",
       "    .dataframe thead th {\n",
       "        text-align: right;\n",
       "    }\n",
       "</style>\n",
       "<table border=\"1\" class=\"dataframe\">\n",
       "  <thead>\n",
       "    <tr style=\"text-align: right;\">\n",
       "      <th></th>\n",
       "      <th>Jersey Name</th>\n",
       "      <th>Full Name</th>\n",
       "      <th>photoUrl</th>\n",
       "      <th>playerUrl</th>\n",
       "      <th>Nationality</th>\n",
       "      <th>Club</th>\n",
       "      <th>Contract</th>\n",
       "      <th>Positions</th>\n",
       "      <th>Height</th>\n",
       "      <th>Weight</th>\n",
       "      <th>...</th>\n",
       "      <th>Loan Date End</th>\n",
       "      <th>Value</th>\n",
       "      <th>Wage</th>\n",
       "      <th>Release Clause</th>\n",
       "      <th>Weak Foot</th>\n",
       "      <th>Skill Moves</th>\n",
       "      <th>Attack Work Rate</th>\n",
       "      <th>Defense Work Rate</th>\n",
       "      <th>Injury Resistance</th>\n",
       "      <th>Hits</th>\n",
       "    </tr>\n",
       "  </thead>\n",
       "  <tbody>\n",
       "    <tr>\n",
       "      <th>1455</th>\n",
       "      <td>A. Pyatov</td>\n",
       "      <td>Andriy Pyatov</td>\n",
       "      <td>https://cdn.sofifa.com/players/142/902/21_60.png</td>\n",
       "      <td>http://sofifa.com/player/142902/andriy-pyatov/...</td>\n",
       "      <td>Ukraine</td>\n",
       "      <td>\\n\\n\\n\\nShakhtar Donetsk</td>\n",
       "      <td>2007 ~ 2021</td>\n",
       "      <td>GK</td>\n",
       "      <td>190cm</td>\n",
       "      <td>92kg</td>\n",
       "      <td>...</td>\n",
       "      <td>NaN</td>\n",
       "      <td>€825K</td>\n",
       "      <td>€500</td>\n",
       "      <td>€2.7M</td>\n",
       "      <td>3 ★</td>\n",
       "      <td>1★</td>\n",
       "      <td>Medium</td>\n",
       "      <td>Medium</td>\n",
       "      <td>2 ★</td>\n",
       "      <td>7</td>\n",
       "    </tr>\n",
       "    <tr>\n",
       "      <th>12108</th>\n",
       "      <td>L. Corbu</td>\n",
       "      <td>Laurențiu Corbu</td>\n",
       "      <td>https://cdn.sofifa.com/players/246/557/21_60.png</td>\n",
       "      <td>http://sofifa.com/player/246557/laurentiu-corb...</td>\n",
       "      <td>Romania</td>\n",
       "      <td>\\n\\n\\n\\nChindia Târgovişte</td>\n",
       "      <td>2020 ~ 2021</td>\n",
       "      <td>LB, RB</td>\n",
       "      <td>174cm</td>\n",
       "      <td>68kg</td>\n",
       "      <td>...</td>\n",
       "      <td>NaN</td>\n",
       "      <td>€575K</td>\n",
       "      <td>€1K</td>\n",
       "      <td>€570K</td>\n",
       "      <td>2 ★</td>\n",
       "      <td>2★</td>\n",
       "      <td>Medium</td>\n",
       "      <td>Medium</td>\n",
       "      <td>1 ★</td>\n",
       "      <td>2</td>\n",
       "    </tr>\n",
       "    <tr>\n",
       "      <th>2707</th>\n",
       "      <td>J. Lucumi</td>\n",
       "      <td>Jhon Lucumi</td>\n",
       "      <td>https://cdn.sofifa.com/players/231/207/21_60.png</td>\n",
       "      <td>http://sofifa.com/player/231207/jhon-lucumi/21...</td>\n",
       "      <td>Colombia</td>\n",
       "      <td>\\n\\n\\n\\nKRC Genk</td>\n",
       "      <td>2018 ~ 2022</td>\n",
       "      <td>CB, LB</td>\n",
       "      <td>183cm</td>\n",
       "      <td>84kg</td>\n",
       "      <td>...</td>\n",
       "      <td>NaN</td>\n",
       "      <td>€6.5M</td>\n",
       "      <td>€11K</td>\n",
       "      <td>€9.4M</td>\n",
       "      <td>3 ★</td>\n",
       "      <td>2★</td>\n",
       "      <td>Medium</td>\n",
       "      <td>High</td>\n",
       "      <td>1 ★</td>\n",
       "      <td>56</td>\n",
       "    </tr>\n",
       "    <tr>\n",
       "      <th>295</th>\n",
       "      <td>T. Souček</td>\n",
       "      <td>Tomáš Souček</td>\n",
       "      <td>https://cdn.sofifa.com/players/236/792/21_60.png</td>\n",
       "      <td>http://sofifa.com/player/236792/tomas-soucek/2...</td>\n",
       "      <td>Czech Republic</td>\n",
       "      <td>\\n\\n\\n\\nWest Ham United</td>\n",
       "      <td>2020 ~ 2024</td>\n",
       "      <td>CDM, CM</td>\n",
       "      <td>192cm</td>\n",
       "      <td>86kg</td>\n",
       "      <td>...</td>\n",
       "      <td>NaN</td>\n",
       "      <td>€34.5M</td>\n",
       "      <td>€46K</td>\n",
       "      <td>€42.5M</td>\n",
       "      <td>3 ★</td>\n",
       "      <td>3★</td>\n",
       "      <td>High</td>\n",
       "      <td>High</td>\n",
       "      <td>1 ★</td>\n",
       "      <td>210</td>\n",
       "    </tr>\n",
       "    <tr>\n",
       "      <th>5559</th>\n",
       "      <td>Tete Morente</td>\n",
       "      <td>José Antonio Morente Oliva</td>\n",
       "      <td>https://cdn.sofifa.com/players/239/671/21_60.png</td>\n",
       "      <td>http://sofifa.com/player/239671/jose-antonio-m...</td>\n",
       "      <td>Spain</td>\n",
       "      <td>\\n\\n\\n\\nElche CF</td>\n",
       "      <td>2020 ~ 2024</td>\n",
       "      <td>LM, RM, CAM</td>\n",
       "      <td>184cm</td>\n",
       "      <td>78kg</td>\n",
       "      <td>...</td>\n",
       "      <td>NaN</td>\n",
       "      <td>€3.1M</td>\n",
       "      <td>€8K</td>\n",
       "      <td>€3.8M</td>\n",
       "      <td>3 ★</td>\n",
       "      <td>3★</td>\n",
       "      <td>Medium</td>\n",
       "      <td>Medium</td>\n",
       "      <td>1 ★</td>\n",
       "      <td>14</td>\n",
       "    </tr>\n",
       "  </tbody>\n",
       "</table>\n",
       "<p>5 rows × 23 columns</p>\n",
       "</div>"
      ],
      "text/plain": [
       "        Jersey Name                   Full Name  \\\n",
       "1455      A. Pyatov               Andriy Pyatov   \n",
       "12108      L. Corbu             Laurențiu Corbu   \n",
       "2707      J. Lucumi                 Jhon Lucumi   \n",
       "295       T. Souček                Tomáš Souček   \n",
       "5559   Tete Morente  José Antonio Morente Oliva   \n",
       "\n",
       "                                               photoUrl  \\\n",
       "1455   https://cdn.sofifa.com/players/142/902/21_60.png   \n",
       "12108  https://cdn.sofifa.com/players/246/557/21_60.png   \n",
       "2707   https://cdn.sofifa.com/players/231/207/21_60.png   \n",
       "295    https://cdn.sofifa.com/players/236/792/21_60.png   \n",
       "5559   https://cdn.sofifa.com/players/239/671/21_60.png   \n",
       "\n",
       "                                               playerUrl     Nationality  \\\n",
       "1455   http://sofifa.com/player/142902/andriy-pyatov/...         Ukraine   \n",
       "12108  http://sofifa.com/player/246557/laurentiu-corb...         Romania   \n",
       "2707   http://sofifa.com/player/231207/jhon-lucumi/21...        Colombia   \n",
       "295    http://sofifa.com/player/236792/tomas-soucek/2...  Czech Republic   \n",
       "5559   http://sofifa.com/player/239671/jose-antonio-m...           Spain   \n",
       "\n",
       "                             Club     Contract    Positions Height Weight  \\\n",
       "1455     \\n\\n\\n\\nShakhtar Donetsk  2007 ~ 2021           GK  190cm   92kg   \n",
       "12108  \\n\\n\\n\\nChindia Târgovişte  2020 ~ 2021       LB, RB  174cm   68kg   \n",
       "2707             \\n\\n\\n\\nKRC Genk  2018 ~ 2022       CB, LB  183cm   84kg   \n",
       "295       \\n\\n\\n\\nWest Ham United  2020 ~ 2024      CDM, CM  192cm   86kg   \n",
       "5559             \\n\\n\\n\\nElche CF  2020 ~ 2024  LM, RM, CAM  184cm   78kg   \n",
       "\n",
       "       ... Loan Date End   Value  Wage Release Clause Weak Foot Skill Moves  \\\n",
       "1455   ...           NaN   €825K  €500          €2.7M       3 ★          1★   \n",
       "12108  ...           NaN   €575K   €1K          €570K       2 ★          2★   \n",
       "2707   ...           NaN   €6.5M  €11K          €9.4M       3 ★          2★   \n",
       "295    ...           NaN  €34.5M  €46K         €42.5M       3 ★          3★   \n",
       "5559   ...           NaN   €3.1M   €8K          €3.8M       3 ★          3★   \n",
       "\n",
       "      Attack Work Rate Defense Work Rate Injury Resistance Hits  \n",
       "1455            Medium            Medium               2 ★    7  \n",
       "12108           Medium            Medium               1 ★    2  \n",
       "2707            Medium              High               1 ★   56  \n",
       "295               High              High               1 ★  210  \n",
       "5559            Medium            Medium               1 ★   14  \n",
       "\n",
       "[5 rows x 23 columns]"
      ]
     },
     "execution_count": 13,
     "metadata": {},
     "output_type": "execute_result"
    }
   ],
   "source": [
    "# Taking a sample to see the nature of this set of columns\n",
    "df[Cols_objects].sample(5)\n",
    "#These columns look a bit messy as they contain some special characters and, of course, null values."
   ]
  },
  {
   "cell_type": "code",
   "execution_count": 14,
   "id": "55084e13-552d-4cd4-8d52-14682769145d",
   "metadata": {},
   "outputs": [
    {
     "data": {
      "text/plain": [
       "['Loan Date End', 'Hits']"
      ]
     },
     "execution_count": 14,
     "metadata": {},
     "output_type": "execute_result"
    }
   ],
   "source": [
    "#Confirmation of the presence of null values in Cols_objects.\n",
    "df[Cols_objects].columns[df[Cols_objects].isna().any()].tolist()\n",
    "\n",
    "#Noted to be worked upon"
   ]
  },
  {
   "cell_type": "markdown",
   "id": "bd43525d-7c4c-4bc9-ac41-1d9670c4008d",
   "metadata": {},
   "source": [
    "#### APPROACH\n",
    "#Because these columns look messy,  it is relevant to obtain all unique characters in each column to fish out all foreign characters and deal with them accordingly.\n",
    "I will, therefore, deal with these columns individually."
   ]
  },
  {
   "cell_type": "markdown",
   "id": "cc7a5907-be02-47d6-9d69-483aa5872547",
   "metadata": {},
   "source": [
    "* #### Jersey Name"
   ]
  },
  {
   "cell_type": "code",
   "execution_count": 15,
   "id": "5c5d5ad1-a8e5-4efc-aa25-988f23383108",
   "metadata": {},
   "outputs": [
    {
     "name": "stdout",
     "output_type": "stream",
     "text": [
      "{'c', 'ú', 'ą', 'V', 'T', 'X', 'â', 'Ō', 'h', 'ë', 'č', 'Ş', 'y', 'à', 'a', 'ō', 'ä', 'ğ', 'Č', 'Ć', 'N', 'í', 's', 'Ž', 'e', 'ľ', 'M', \"'\", 'Ó', 'ý', 'Ł', 'ö', 'p', 'ń', 'ż', 'á', 'l', 'R', 'Š', 'ș', 'ş', 'L', 'ü', 'f', 'ñ', 'k', 'Y', 'K', 'Á', 'Þ', 'G', 'Ø', 'Ż', 'U', 'ø', 'Đ', 'b', 'đ', 'å', 'ł', 'z', 'D', 'ă', 'İ', 'H', 'ā', 'š', 'ã', 'ð', 't', 'o', 'Z', 'I', 'ç', 'ô', 'x', 'ê', 'ž', 'Ü', 'ř', '\\xad', 'ę', '.', 'Â', 'ů', 'i', 'j', 'J', '-', 'É', 'Ř', 'n', 'ß', ' ', 'C', 'æ', 'ň', 'w', 'Ț', 'ț', 'A', 'ś', 'ı', 'O', 'u', 'ő', 'Ö', 'ć', 'm', 'S', 'ó', 'r', 'F', 'W', 'Ș', 'B', 'ķ', 'Å', 'd', 'Ś', 'þ', 'v', 'î', 'ï', 'ź', 'ò', 'q', 'Ç', 'g', 'Q', 'E', 'è', 'P', 'é', '�', 'õ', 'ě'}\n",
      "['L. Messi' 'Cristiano Ronaldo' 'J. Oblak' ... 'R. McKinley'\n",
      " \"Wang Zhen'ao\" 'Zhou Xiao']\n"
     ]
    }
   ],
   "source": [
    "#Obtaining unique characters in the Jersey Name column\n",
    "\n",
    "print(set(df[\"Jersey Name\"].apply(list).sum()))\n",
    "print(df[\"Jersey Name\"].unique())"
   ]
  },
  {
   "cell_type": "code",
   "execution_count": 16,
   "id": "ae32e680-c469-4631-b95d-78d7aacdc591",
   "metadata": {},
   "outputs": [
    {
     "data": {
      "text/plain": [
       "3967        K. Jóźwiak\n",
       "10029    J. Rzeźniczak\n",
       "Name: Jersey Name, dtype: object"
      ]
     },
     "execution_count": 16,
     "metadata": {},
     "output_type": "execute_result"
    }
   ],
   "source": [
    "#Fetching a random character to confirm if these characters forms part of some players' name.\n",
    "\n",
    "df['Jersey Name'][df[\"Jersey Name\"].str.contains(\"ź\")]\n",
    "\n",
    "#Obviously these characters are not strange as they form part of players' name. This column is clean."
   ]
  },
  {
   "cell_type": "code",
   "execution_count": 17,
   "id": "c36fc6c9-cd6d-45e0-8130-ab32b27635b6",
   "metadata": {},
   "outputs": [
    {
     "name": "stdout",
     "output_type": "stream",
     "text": [
      "<class 'pandas.core.frame.DataFrame'>\n",
      "RangeIndex: 18979 entries, 0 to 18978\n",
      "Data columns (total 55 columns):\n",
      " #   Column               Non-Null Count  Dtype \n",
      "---  ------               --------------  ----- \n",
      " 0   Player ID            18979 non-null  int64 \n",
      " 1   Age                  18979 non-null  int64 \n",
      " 2   Overall Rating       18979 non-null  int64 \n",
      " 3   Potential Rating     18979 non-null  int64 \n",
      " 4   Best Overall Rating  18979 non-null  int64 \n",
      " 5   Attacking            18979 non-null  int64 \n",
      " 6   Crossing             18979 non-null  int64 \n",
      " 7   Finishing            18979 non-null  int64 \n",
      " 8   Heading Accuracy     18979 non-null  int64 \n",
      " 9   Short Passing        18979 non-null  int64 \n",
      " 10  Volleys              18979 non-null  int64 \n",
      " 11  Skill                18979 non-null  int64 \n",
      " 12  Dribbling            18979 non-null  int64 \n",
      " 13  Curve                18979 non-null  int64 \n",
      " 14  FK Accuracy          18979 non-null  int64 \n",
      " 15  Long Passing         18979 non-null  int64 \n",
      " 16  Ball Control         18979 non-null  int64 \n",
      " 17  Movement             18979 non-null  int64 \n",
      " 18  Acceleration         18979 non-null  int64 \n",
      " 19  Sprint Speed         18979 non-null  int64 \n",
      " 20  Agility              18979 non-null  int64 \n",
      " 21  Reactions            18979 non-null  int64 \n",
      " 22  Balance              18979 non-null  int64 \n",
      " 23  Power                18979 non-null  int64 \n",
      " 24  Shot Power           18979 non-null  int64 \n",
      " 25  Jumping              18979 non-null  int64 \n",
      " 26  Stamina              18979 non-null  int64 \n",
      " 27  Strength             18979 non-null  int64 \n",
      " 28  Long Shots           18979 non-null  int64 \n",
      " 29  Mentality            18979 non-null  int64 \n",
      " 30  Aggression           18979 non-null  int64 \n",
      " 31  Interceptions        18979 non-null  int64 \n",
      " 32  Positioning          18979 non-null  int64 \n",
      " 33  Vision               18979 non-null  int64 \n",
      " 34  Penalties            18979 non-null  int64 \n",
      " 35  Composure            18979 non-null  int64 \n",
      " 36  Defending            18979 non-null  int64 \n",
      " 37  Marking              18979 non-null  int64 \n",
      " 38  Standing Tackle      18979 non-null  int64 \n",
      " 39  Sliding Tackle       18979 non-null  int64 \n",
      " 40  Goalkeeping          18979 non-null  int64 \n",
      " 41  GK Diving            18979 non-null  int64 \n",
      " 42  GK Handling          18979 non-null  int64 \n",
      " 43  GK Kicking           18979 non-null  int64 \n",
      " 44  GK Positioning       18979 non-null  int64 \n",
      " 45  GK Reflexes          18979 non-null  int64 \n",
      " 46  Total Stats          18979 non-null  int64 \n",
      " 47  Base Stats           18979 non-null  int64 \n",
      " 48  Pace                 18979 non-null  int64 \n",
      " 49  Shooting Ability     18979 non-null  int64 \n",
      " 50  Passing Ability      18979 non-null  int64 \n",
      " 51  Dribbling Ability    18979 non-null  int64 \n",
      " 52  Defensive Ability    18979 non-null  int64 \n",
      " 53  Physicality          18979 non-null  int64 \n",
      " 54  Jersey Name          18979 non-null  object\n",
      "dtypes: int64(54), object(1)\n",
      "memory usage: 8.0+ MB\n",
      "None\n"
     ]
    }
   ],
   "source": [
    "#Adding a copy of the Jersey Name column to the cleaned columns.\n",
    "\n",
    "cleaned_cols[\"Jersey Name\"] = pd.Series(df[\"Jersey Name\"].copy(), dtype=str)\n",
    "print(cleaned_cols.info())\n",
    "\n",
    "#As it is clearly seen on no. 54 indicating a copy has been successfully added to the cleaned_cols."
   ]
  },
  {
   "cell_type": "markdown",
   "id": "2c7cd80e-4fa2-4a59-a313-76eabfcf3b5e",
   "metadata": {},
   "source": [
    "* ### Full Name"
   ]
  },
  {
   "cell_type": "code",
   "execution_count": 18,
   "id": "69d5856a-9d9d-454d-aa59-c7d8a454064f",
   "metadata": {},
   "outputs": [
    {
     "name": "stdout",
     "output_type": "stream",
     "text": [
      "{'c', 'ú', 'ą', 'V', 'T', 'X', 'â', 'Ō', 'h', 'ë', 'č', 'Ş', 'y', 'à', 'a', 'ō', 'ä', 'ğ', 'Č', 'ū', 'Ć', 'N', 'í', 's', 'Ž', 'e', 'ľ', 'M', \"'\", 'Ó', 'ý', 'Ł', 'ö', 'p', 'À', 'ń', 'ż', 'á', 'l', 'R', 'Š', 'ș', 'ş', 'L', 'ü', 'f', 'Á', 'k', 'Y', 'K', 'ñ', 'Þ', 'G', 'Ø', 'Ż', 'U', 'ø', 'Đ', 'b', 'å', 'đ', 'ł', 'z', 'D', 'ă', 'İ', 'H', 'ā', 'š', 'ã', 'ð', 't', 'o', 'Z', 'I', 'ç', 'ô', 'x', 'ê', 'ž', 'Ü', 'ř', '\\xad', 'Ñ', 'ę', '.', 'Â', 'ů', 'i', 'j', 'J', '-', 'É', 'Ř', 'n', 'ß', ' ', 'C', 'æ', 'ň', 'w', 'Ț', 'Í', 'ț', 'A', 'ś', 'ı', 'O', 'u', 'ő', 'Ö', 'Ľ', 'ć', 'm', 'S', 'ó', 'r', 'F', 'W', 'Ș', 'B', 'ķ', 'Å', 'd', 'Ś', 'þ', 'v', 'î', 'ï', 'ź', 'ò', 'q', 'Ç', 'g', 'Q', 'E', 'è', 'P', 'é', 'õ', 'ě'}\n",
      "['Lionel Messi' 'C. Ronaldo dos Santos Aveiro' 'Jan Oblak' ...\n",
      " 'Ronan McKinley' \"Zhen'ao Wang\" 'Xiao Zhou']\n"
     ]
    }
   ],
   "source": [
    "#Obtaining unique characters\n",
    "\n",
    "print(set(df[\"Full Name\"].apply(list).sum()))\n",
    "print(df[\"Full Name\"].unique())\n",
    "\n",
    "#This looks more like the Jersey Name. These characters form part of players' name so we can consider it clean."
   ]
  },
  {
   "cell_type": "code",
   "execution_count": 19,
   "id": "7ac78e70-f2c8-4ab9-bcd2-3ba8bf57376e",
   "metadata": {},
   "outputs": [],
   "source": [
    "#Adding Full Name column to cleaned_cols.\n",
    "\n",
    "cleaned_cols[\"Full Name\"] = pd.Series(df[\"Full Name\"].copy(), dtype=str)"
   ]
  },
  {
   "cell_type": "markdown",
   "id": "f56694d1-60d1-4f9e-9d15-ee054c63a3b8",
   "metadata": {},
   "source": [
    "* ### photoUrl"
   ]
  },
  {
   "cell_type": "code",
   "execution_count": 20,
   "id": "beafbdab-14b3-4e42-9923-c421504aead3",
   "metadata": {},
   "outputs": [
    {
     "name": "stdout",
     "output_type": "stream",
     "text": [
      "{'c', '2', '1', '3', 'm', 'f', 'h', '4', 'r', '.', 'y', 'i', '/', 'a', 'd', 'n', '0', '9', '7', 's', 'e', 'g', '_', '8', ':', 'p', '5', 't', 'o', '6', 'l'}\n",
      "['https://cdn.sofifa.com/players/158/023/21_60.png'\n",
      " 'https://cdn.sofifa.com/players/020/801/21_60.png'\n",
      " 'https://cdn.sofifa.com/players/200/389/21_60.png' ...\n",
      " 'https://cdn.sofifa.com/players/252/757/21_60.png'\n",
      " 'https://cdn.sofifa.com/players/243/790/21_60.png'\n",
      " 'https://cdn.sofifa.com/players/252/520/21_60.png']\n"
     ]
    }
   ],
   "source": [
    "#Obtaining unique characters\n",
    "\n",
    "print(set(df[\"photoUrl\"].apply(list).sum()))\n",
    "print(df[\"photoUrl\"].unique())\n",
    "\n",
    "#These characters looks more of url related characters and needs not be tempered with.\n",
    "#They are as well pictures with of the same picture type(ie; png)\n",
    "#Hence the column is clean and I'm good to go"
   ]
  },
  {
   "cell_type": "code",
   "execution_count": 21,
   "id": "bff68be7-2483-4f07-86f3-88f408024670",
   "metadata": {},
   "outputs": [],
   "source": [
    "#Adding photoUrl column to cleaned cols.\n",
    "\n",
    "cleaned_cols[\"photoUrl\"] = pd.Series(df.photoUrl.copy(), dtype=str)"
   ]
  },
  {
   "cell_type": "markdown",
   "id": "4f839ed0-5e4d-4a38-a596-72370b4f9f9b",
   "metadata": {},
   "source": [
    "* ### playerUrl"
   ]
  },
  {
   "cell_type": "code",
   "execution_count": 22,
   "id": "b7d4db97-b9f1-4b4f-bb26-02c054e16419",
   "metadata": {},
   "outputs": [
    {
     "name": "stdout",
     "output_type": "stream",
     "text": [
      "{'c', 'u', '2', '1', '3', 'm', 'f', 'h', '4', 'k', 'r', '.', 'y', 'i', '/', 'a', '-', 'j', 'd', 'b', 'v', 'n', '0', '9', 'z', '7', 'q', 's', 'e', 'g', '8', 'w', ':', 'p', '5', 't', 'o', '6', 'l', 'x'}\n",
      "['http://sofifa.com/player/158023/lionel-messi/210006/'\n",
      " 'http://sofifa.com/player/20801/c-ronaldo-dos-santos-aveiro/210006/'\n",
      " 'http://sofifa.com/player/200389/jan-oblak/210006/' ...\n",
      " 'http://sofifa.com/player/252757/ronan-mckinley/210006/'\n",
      " 'http://sofifa.com/player/243790/zhenao-wang/210006/'\n",
      " 'http://sofifa.com/player/252520/xiao-zhou/210006/']\n"
     ]
    }
   ],
   "source": [
    "#Obtaining unique characters\n",
    "\n",
    "print(set(df.playerUrl.apply(list).sum()))\n",
    "print(df[\"playerUrl\"].unique())\n",
    "\n",
    "#The column is clean"
   ]
  },
  {
   "cell_type": "code",
   "execution_count": 23,
   "id": "9b6df7df-c830-4d84-816d-cd5aed6d6350",
   "metadata": {},
   "outputs": [],
   "source": [
    "#Adding this column to the cleaned data\n",
    "\n",
    "cleaned_cols[\"playerUrl\"] = pd.Series(df.playerUrl.copy(), dtype = str)"
   ]
  },
  {
   "cell_type": "markdown",
   "id": "2ab28750-e5b3-4af3-aac9-199269c5715c",
   "metadata": {},
   "source": [
    "* ### Nationality"
   ]
  },
  {
   "cell_type": "code",
   "execution_count": 24,
   "id": "2a91d522-afb2-4e3d-9210-83bad5ffe014",
   "metadata": {},
   "outputs": [
    {
     "name": "stdout",
     "output_type": "stream",
     "text": [
      "{'c', 'u', 'V', 'T', 'L', 'm', 'S', 'h', 'f', 'k', 'r', 'K', 'F', 'G', 'y', 'W', 'i', '&', 'a', 'U', 'J', 'j', 'B', 'd', 'b', 'v', 'n', ' ', 'C', 'z', 'D', 'q', 'N', 'í', 's', 'e', 'H', 'g', 'M', 'E', 'w', 'p', 'ã', 'P', 't', 'é', 'o', 'Z', 'I', 'l', 'x', 'R', 'A'}\n",
      "['Argentina' 'Portugal' 'Slovenia' 'Belgium' 'Brazil' 'Poland' 'Egypt'\n",
      " 'France' 'Germany' 'Netherlands' 'Senegal' 'Spain' 'England' 'Scotland'\n",
      " 'Korea Republic' 'Costa Rica' 'Italy' 'Gabon' 'Croatia' 'Uruguay'\n",
      " 'Switzerland' 'Serbia' 'Slovakia' 'Morocco' 'Algeria' 'Denmark' 'Hungary'\n",
      " 'Bosnia Herzegovina' 'Nigeria' 'Cameroon' 'Norway' 'Ghana' 'Mexico'\n",
      " 'Austria' 'Albania' 'Colombia' 'Chile' 'Ivory Coast' 'Greece' 'Finland'\n",
      " 'Wales' 'Sweden' 'Togo' 'Czech Republic' 'Russia' 'Venezuela' 'Canada'\n",
      " 'United States' 'Guinea' 'Montenegro' 'Israel' 'Republic of Ireland'\n",
      " 'Ukraine' 'Turkey' 'Ecuador' 'Jamaica' 'DR Congo' 'Australia' 'China PR'\n",
      " 'Armenia' 'Northern Ireland' 'North Macedonia' 'Kosovo' 'Mali' 'Peru'\n",
      " 'Central African Republic' 'Iceland' 'Burkina Faso' 'Paraguay' 'Japan'\n",
      " 'Romania' 'New Zealand' 'Iran' 'Angola' 'Tunisia' 'Syria'\n",
      " 'Dominican Republic' 'Cape Verde' 'Equatorial Guinea' 'Kenya' 'Georgia'\n",
      " 'Panama' 'Zambia' 'Tanzania' 'Zimbabwe' 'Congo' 'South Africa' 'Moldova'\n",
      " 'Mozambique' 'Iraq' 'Guinea Bissau' 'Honduras' 'Cuba' 'Cyprus'\n",
      " 'Lithuania' 'Estonia' 'Madagascar' 'Benin' 'Curacao' 'Saudi Arabia'\n",
      " 'Gambia' 'Uzbekistan' 'Chad' 'United Arab Emirates'\n",
      " 'Saint Kitts and Nevis' 'Libya' 'Sierra Leone' 'Philippines' 'Liberia'\n",
      " 'Bulgaria' 'Comoros' 'Namibia' 'Luxembourg' 'Trinidad & Tobago' 'Bermuda'\n",
      " 'Thailand' 'Burundi' 'New Caledonia' 'Puerto Rico' 'Bolivia' 'Kazakhstan'\n",
      " 'Antigua & Barbuda' 'Latvia' 'Malawi' 'Montserrat' 'São Tomé & Príncipe'\n",
      " 'El Salvador' 'Mauritania' 'Jordan' 'Eritrea' 'Aruba' 'Uganda'\n",
      " 'Chinese Taipei' 'Azerbaijan' 'Afghanistan' 'Faroe Islands' 'Haiti'\n",
      " 'Sudan' 'Grenada' 'Lebanon' 'Guam' 'Palestine' 'Belarus' 'Guyana'\n",
      " 'Rwanda' 'Liechtenstein' 'Saint Lucia' 'Papua New Guinea' 'India'\n",
      " 'Ethiopia' 'Belize' 'Andorra' 'Guatemala' 'Malta' 'Niger' 'Korea DPR'\n",
      " 'Barbados' 'Macau' 'South Sudan' 'Singapore' 'Hong Kong' 'Nicaragua'\n",
      " 'Malaysia' 'Indonesia']\n"
     ]
    }
   ],
   "source": [
    "#Obtaining unique characters\n",
    "\n",
    "print(set(df.Nationality.apply(list).sum()))\n",
    "print(df[\"Nationality\"].unique())"
   ]
  },
  {
   "cell_type": "code",
   "execution_count": 25,
   "id": "b90231dd-89d7-42e3-a10f-fd8e119be1d3",
   "metadata": {},
   "outputs": [
    {
     "data": {
      "text/plain": [
       "4903    São Tomé & Príncipe\n",
       "Name: Nationality, dtype: object"
      ]
     },
     "execution_count": 25,
     "metadata": {},
     "output_type": "execute_result"
    }
   ],
   "source": [
    "#Investigating the strange characters to confirm whether or not they are indeed strange\n",
    "\n",
    "df.Nationality[df.Nationality.str.contains(\"ã\")]\n",
    "\n",
    "#These characters are not strange. This column is fine and can be added to the cleaned_cols."
   ]
  },
  {
   "cell_type": "code",
   "execution_count": 26,
   "id": "b9b17762-5743-4a0f-b065-4b81fd42106f",
   "metadata": {},
   "outputs": [],
   "source": [
    "#Adding Nationality col to cleaned_cols.\n",
    "\n",
    "cleaned_cols[\"Nationality\"] = pd.Series(df.Nationality.copy(), dtype=str)"
   ]
  },
  {
   "cell_type": "markdown",
   "id": "699c7f0b-69d6-4851-a2e2-b9988ae8fca7",
   "metadata": {},
   "source": [
    "* ### Club"
   ]
  },
  {
   "cell_type": "code",
   "execution_count": 27,
   "id": "c7e3e857-21ec-4ddb-8229-857fb5783fe3",
   "metadata": {},
   "outputs": [
    {
     "name": "stdout",
     "output_type": "stream",
     "text": [
      "{'c', 'ú', 'ą', 'V', 'T', 'â', '1', 'h', 'y', 'a', 'ä', 'ğ', '7', 'N', 'í', 's', 'e', 'M', \"'\", 'ö', 'p', 'ń', 'á', 'l', 'R', ')', '2', 'ș', 'ş', '3', 'ü', 'L', 'f', 'ñ', 'k', 'Y', 'K', 'G', '/', 'U', 'ø', 'b', 'å', 'ł', '9', 'z', 'D', 'H', 'ã', 't', 'o', 'Z', 'I', 'ç', 'x', 'ê', 'ę', '.', 'i', '\\n', '&', 'j', 'J', '-', 'É', 'n', ' ', 'C', 'æ', '0', 'ň', '8', 'w', '5', 'A', 'O', 'u', 'Ö', 'm', 'S', '4', 'ó', 'r', '(', 'F', 'W', 'B', 'd', 'Ś', 'v', 'î', 'q', 'Ç', 'g', 'Q', 'E', 'è', 'P', 'é', '6'}\n"
     ]
    }
   ],
   "source": [
    "#Obtaining unique characters\n",
    "\n",
    "print(set(df.Club.apply(list).sum()))"
   ]
  },
  {
   "cell_type": "code",
   "execution_count": 28,
   "id": "a84261f3-3da8-4aef-882a-95e669636b0f",
   "metadata": {},
   "outputs": [
    {
     "data": {
      "text/plain": [
       "2133               \\n\\n\\n\\nHannover 96\n",
       "2769     \\n\\n\\n\\n1. FC Heidenheim 1846\n",
       "2796     \\n\\n\\n\\n1. FC Heidenheim 1846\n",
       "2990               \\n\\n\\n\\nHannover 96\n",
       "3164     \\n\\n\\n\\n1. FC Heidenheim 1846\n",
       "                     ...              \n",
       "18562         \\n\\n\\n\\nTSV 1860 München\n",
       "18721         \\n\\n\\n\\nTSV 1860 München\n",
       "18906         \\n\\n\\n\\nTSV 1860 München\n",
       "18907         \\n\\n\\n\\nTSV 1860 München\n",
       "18945         \\n\\n\\n\\nTSV 1860 München\n",
       "Name: Club, Length: 109, dtype: object"
      ]
     },
     "execution_count": 28,
     "metadata": {},
     "output_type": "execute_result"
    }
   ],
   "source": [
    "#Investigating the presence of possible strange characters with a sample\n",
    "df.Club[df.Club.str.contains(\"6\")]\n",
    "\n",
    "#Obviously there is work to be done here"
   ]
  },
  {
   "cell_type": "code",
   "execution_count": 29,
   "id": "98e69aa5-795c-43ae-b8c9-a16007b67dd1",
   "metadata": {},
   "outputs": [
    {
     "data": {
      "text/plain": [
       "0           \\n\\n\\n\\nFC Barcelona\n",
       "1               \\n\\n\\n\\nJuventus\n",
       "2        \\n\\n\\n\\nAtlético Madrid\n",
       "3        \\n\\n\\n\\nManchester City\n",
       "4    \\n\\n\\n\\nParis Saint-Germain\n",
       "5      \\n\\n\\n\\nFC Bayern München\n",
       "6              \\n\\n\\n\\nLiverpool\n",
       "7              \\n\\n\\n\\nLiverpool\n",
       "8    \\n\\n\\n\\nParis Saint-Germain\n",
       "9           \\n\\n\\n\\nFC Barcelona\n",
       "Name: Club, dtype: object"
      ]
     },
     "execution_count": 29,
     "metadata": {},
     "output_type": "execute_result"
    }
   ],
   "source": [
    "#Obtaining a sample\n",
    "\n",
    "df.Club.head(10)\n",
    "\n",
    "#This doesn't look good"
   ]
  },
  {
   "cell_type": "code",
   "execution_count": 30,
   "id": "91eb42f3-011d-4c43-b133-80c2fb03a1a3",
   "metadata": {},
   "outputs": [
    {
     "name": "stdout",
     "output_type": "stream",
     "text": [
      "0           FC Barcelona\n",
      "1               Juventus\n",
      "2        Atlético Madrid\n",
      "Name: Club, dtype: object\n"
     ]
    }
   ],
   "source": [
    "#replacing strange characthers with white space\n",
    "\n",
    "df[\"Club\"] = df[\"Club\"].str.replace(\"\\n\", \" \", regex=True)\n",
    "\n",
    "print(df.Club.head(3))\n",
    "\n",
    "#This looks better now and can be added to the cleaned_cols."
   ]
  },
  {
   "cell_type": "code",
   "execution_count": 31,
   "id": "910c26e8-a70d-4da9-abd3-9055673bcc84",
   "metadata": {},
   "outputs": [],
   "source": [
    "#Adding Club to cleaned_cols\n",
    "\n",
    "cleaned_cols[\"Club\"] = pd.Series(df.Club.copy(), dtype=str)"
   ]
  },
  {
   "cell_type": "markdown",
   "id": "50dd3e2f-2abe-45f8-b83f-dbca75820b7d",
   "metadata": {},
   "source": [
    "* ### Contract"
   ]
  },
  {
   "cell_type": "code",
   "execution_count": 32,
   "id": "ff9e7537-11bc-4e17-baa4-ff3e57819bf4",
   "metadata": {},
   "outputs": [
    {
     "name": "stdout",
     "output_type": "stream",
     "text": [
      "{'O', 'c', 'u', '2', '1', '3', 'L', '4', ',', 'r', 'F', 'y', 'a', 'J', '~', 'v', 'n', ' ', '0', '9', '7', 'D', 'N', 'e', 'g', 'M', '8', '5', 'o', '6', 'l', 'A'}\n"
     ]
    }
   ],
   "source": [
    "#Obtaining unique characters\n",
    "\n",
    "print(set(df.Contract.apply(list).sum()))"
   ]
  },
  {
   "cell_type": "code",
   "execution_count": 33,
   "id": "f6d73eef-791d-41cd-bdc8-d1235836b121",
   "metadata": {},
   "outputs": [
    {
     "data": {
      "text/plain": [
       "1176              2019 ~ 2023\n",
       "17030             2015 ~ 2022\n",
       "17787             2020 ~ 2022\n",
       "7131     Jun 30, 2021 On Loan\n",
       "13961             2020 ~ 2023\n",
       "3461              2016 ~ 2022\n",
       "10431             2017 ~ 2021\n",
       "5026              2020 ~ 2024\n",
       "4760              2020 ~ 2022\n",
       "3801              2020 ~ 2021\n",
       "Name: Contract, dtype: object"
      ]
     },
     "execution_count": 33,
     "metadata": {},
     "output_type": "execute_result"
    }
   ],
   "source": [
    "#Taking a snap view of this column\n",
    "\n",
    "df.Contract.sample(10)\n",
    "\n",
    "#No strange characters tho but want to polish it quite a bit"
   ]
  },
  {
   "cell_type": "code",
   "execution_count": 34,
   "id": "58cc4db4-91b9-4f77-8a30-c2314caa66f7",
   "metadata": {},
   "outputs": [
    {
     "name": "stdout",
     "output_type": "stream",
     "text": [
      "0    2004 - 2021\n",
      "1    2018 - 2022\n",
      "Name: Contract, dtype: object\n"
     ]
    }
   ],
   "source": [
    "#Replacing \"~\" with \"-\"\n",
    "\n",
    "df.Contract = df.Contract.str.replace(\"~\", \"-\", regex = True)\n",
    "print(df.Contract.head(2))\n",
    "\n",
    "#This looks descent now"
   ]
  },
  {
   "cell_type": "code",
   "execution_count": 35,
   "id": "ed27019e-d350-4cf4-a2df-5a932ba7b3c5",
   "metadata": {},
   "outputs": [],
   "source": [
    "#Proceding to add the Contract column to the cleaned_cols.\n",
    "\n",
    "cleaned_cols[\"Contract\"] = pd.Series(df.Contract.copy(), dtype = str)"
   ]
  },
  {
   "cell_type": "markdown",
   "id": "90e37de5-2852-4173-acd2-6438c81e2ee7",
   "metadata": {},
   "source": [
    "* ### Positions"
   ]
  },
  {
   "cell_type": "code",
   "execution_count": 36,
   "id": "80684307-0198-4402-a329-02684df4094c",
   "metadata": {},
   "outputs": [
    {
     "name": "stdout",
     "output_type": "stream",
     "text": [
      "{'M', 'G', 'W', ' ', 'C', 'T', 'L', 'B', 'S', 'D', ',', 'R', 'A', 'K', 'F'}\n"
     ]
    }
   ],
   "source": [
    "#Obtaining unique characters\n",
    "\n",
    "print(set(df.Positions.apply(list).sum()))\n",
    "\n",
    "#This column can be added to cleaned_cols as it has no strange character in there."
   ]
  },
  {
   "cell_type": "code",
   "execution_count": 37,
   "id": "08945c46-9f56-4097-b7be-37729aa2b89b",
   "metadata": {},
   "outputs": [],
   "source": [
    "#Adding Positions to cleaned_cols\n",
    "\n",
    "cleaned_cols[\"Positions\"] = pd.Series(df.Positions.copy(), dtype = str)"
   ]
  },
  {
   "cell_type": "markdown",
   "id": "481c9648-665c-4f36-8e62-73bd94e22e8d",
   "metadata": {},
   "source": [
    "* ### Preferred Foot"
   ]
  },
  {
   "cell_type": "code",
   "execution_count": 38,
   "id": "f7dbcc0c-c34b-4ba2-87da-a2e97376f381",
   "metadata": {},
   "outputs": [
    {
     "name": "stdout",
     "output_type": "stream",
     "text": [
      "{'i', 't', 'L', 'f', 'h', 'e', 'R', 'g'}\n",
      "['Left' 'Right']\n"
     ]
    }
   ],
   "source": [
    "#Obtaining unique characters\n",
    "\n",
    "print(set(df[\"Preferred Foot\"].apply(list).sum()))\n",
    "print(df[\"Preferred Foot\"].unique())"
   ]
  },
  {
   "cell_type": "code",
   "execution_count": 39,
   "id": "5ec7bb29-c88c-426d-8510-0cc406dff636",
   "metadata": {},
   "outputs": [],
   "source": [
    "#Converting this to a categorical data and adding to cleaned_cols\n",
    "\n",
    "cleaned_cols[\"Preferred Foot\"] = df[\"Preferred Foot\"].astype(\"category\")"
   ]
  },
  {
   "cell_type": "markdown",
   "id": "c74691db-345a-4685-bf58-8e39570f3e4e",
   "metadata": {},
   "source": [
    "* ### Best Position"
   ]
  },
  {
   "cell_type": "code",
   "execution_count": 40,
   "id": "e399b680-2ae5-4a08-9653-44789fa59628",
   "metadata": {},
   "outputs": [
    {
     "name": "stdout",
     "output_type": "stream",
     "text": [
      "{'M', 'G', 'W', 'C', 'T', 'L', 'B', 'S', 'D', 'R', 'A', 'K', 'F'}\n",
      "['RW' 'ST' 'GK' 'CAM' 'LW' 'CB' 'CDM' 'CF' 'CM' 'RB' 'LB' 'LM' 'RM' 'LWB'\n",
      " 'RWB']\n"
     ]
    }
   ],
   "source": [
    "#Obtaining unique characters\n",
    "\n",
    "print(set(df[\"Best Position\"].apply(list).sum()))\n",
    "print(df[\"Best Position\"].unique())\n",
    "\n",
    "#This column is fine"
   ]
  },
  {
   "cell_type": "code",
   "execution_count": 41,
   "id": "6f62fbd7-77f3-4535-9812-e4bb247ebdde",
   "metadata": {},
   "outputs": [],
   "source": [
    "#Converting this column to a categorical data type and adding to cleaned_cols\n",
    "\n",
    "cleaned_cols[\"Best Position\"] = df[\"Best Position\"].astype(\"category\")"
   ]
  },
  {
   "cell_type": "markdown",
   "id": "34a36982-54b5-416e-979a-56185da1484c",
   "metadata": {},
   "source": [
    "* ### Date Joined"
   ]
  },
  {
   "cell_type": "code",
   "execution_count": 42,
   "id": "0891858a-ecc7-46f8-bd36-27cdc07392f3",
   "metadata": {},
   "outputs": [
    {
     "name": "stdout",
     "output_type": "stream",
     "text": [
      "{'O', 'c', 'u', '2', '1', '3', 'S', '4', 'r', 'F', 'y', 'a', 'J', '-', 'b', 'v', 'n', '0', '9', '7', 'D', 'N', 'e', 'g', 'M', '8', 'p', '5', 't', 'o', '6', 'l', 'A'}\n",
      "['1-Jul-04' '10-Jul-18' '16-Jul-14' ... '22-Sep-18' '28-Feb-15' '6-Mar-18']\n"
     ]
    }
   ],
   "source": [
    "#Obtaining unique characters\n",
    "\n",
    "print(set(df[\"Date Joined\"].apply(list).sum()))\n",
    "print(df[\"Date Joined\"].unique())"
   ]
  },
  {
   "cell_type": "code",
   "execution_count": 43,
   "id": "d00f4e8b-49b3-49c5-8b2f-d3c67b9cad4f",
   "metadata": {},
   "outputs": [],
   "source": [
    "#Converting Date Joined column data type from objects to date and adding to cleaned_cols.\n",
    "\n",
    "cleaned_cols[\"Date Joined\"] = pd.to_datetime(df[\"Date Joined\"]).dt.date"
   ]
  },
  {
   "cell_type": "markdown",
   "id": "509eb51f-f8e9-4abc-ab75-6b81d0efe4c1",
   "metadata": {},
   "source": [
    "* ### Weight"
   ]
  },
  {
   "cell_type": "code",
   "execution_count": 44,
   "id": "dbb6d1d4-fcdf-4d72-888c-b2f5863856d7",
   "metadata": {},
   "outputs": [
    {
     "name": "stdout",
     "output_type": "stream",
     "text": [
      "{'b', '8', '2', '0', '5', '3', '1', '9', '7', '6', 'l', '4', 's', 'k', 'g'}\n",
      "['72kg' '83kg' '87kg' '70kg' '68kg' '80kg' '71kg' '91kg' '73kg' '85kg'\n",
      " '92kg' '69kg' '84kg' '96kg' '81kg' '82kg' '75kg' '86kg' '89kg' '74kg'\n",
      " '76kg' '64kg' '78kg' '90kg' '66kg' '60kg' '94kg' '79kg' '67kg' '65kg'\n",
      " '59kg' '61kg' '93kg' '88kg' '97kg' '77kg' '62kg' '63kg' '95kg' '100kg'\n",
      " '58kg' '183lbs' '179lbs' '172lbs' '196lbs' '176lbs' '185lbs' '170lbs'\n",
      " '203lbs' '168lbs' '161lbs' '146lbs' '130lbs' '190lbs' '174lbs' '148lbs'\n",
      " '165lbs' '159lbs' '192lbs' '181lbs' '139lbs' '154lbs' '157lbs' '163lbs'\n",
      " '98kg' '103kg' '99kg' '102kg' '56kg' '101kg' '57kg' '55kg' '104kg'\n",
      " '107kg' '110kg' '53kg' '50kg' '54kg' '52kg']\n"
     ]
    }
   ],
   "source": [
    "# Obtaining unique characters\n",
    "\n",
    "print(set(df.Weight.apply(list).sum()))\n",
    "print(df.Weight.unique())"
   ]
  },
  {
   "cell_type": "code",
   "execution_count": 45,
   "id": "575e92ba-a833-43fe-ac00-53bb0c2c2304",
   "metadata": {},
   "outputs": [
    {
     "data": {
      "text/plain": [
       "array(['g', 's'], dtype=object)"
      ]
     },
     "execution_count": 45,
     "metadata": {},
     "output_type": "execute_result"
    }
   ],
   "source": [
    "#Observing some inconsistenceis in measurement units. As such, I will convert all pounds to kgs\n",
    "#to define a function that will do the conversion, i will be using the unique last value as a reference\n",
    "df[\"Weight\"].str[-1].unique()"
   ]
  },
  {
   "cell_type": "code",
   "execution_count": 46,
   "id": "8ad751a4-50d5-4bee-9370-a9d0c7cef30d",
   "metadata": {},
   "outputs": [],
   "source": [
    "# define a function \n",
    "#using the unique last value as a reference of condition\n",
    "# replacing the unwanted string value with an empty string\n",
    "# converting the concerned value from its unit to Kilogram\n",
    "# return the rounded off answer\n",
    "# Otherwise, preserve the other kilogram value without the kg\n",
    "\n",
    "def Weight_Convert(x):\n",
    "    if x[-1] == 's':\n",
    "        x = x.replace(\"lbs\",\"\")\n",
    "        kg = int(x[:3]) / 2.205\n",
    "        return round(kg)\n",
    "    elif x[-1] == \"g\":\n",
    "        return int(x[:-2])"
   ]
  },
  {
   "cell_type": "code",
   "execution_count": 47,
   "id": "284f80ec-db80-40b7-ba64-205953239a5d",
   "metadata": {},
   "outputs": [
    {
     "name": "stdout",
     "output_type": "stream",
     "text": [
      "[ 72  83  87  70  68  80  71  91  73  85  92  69  84  96  81  82  75  86\n",
      "  89  74  76  64  78  90  66  60  94  79  67  65  59  61  93  88  97  77\n",
      "  62  63  95 100  58  98 103  99 102  56 101  57  55 104 107 110  53  50\n",
      "  54  52]\n"
     ]
    }
   ],
   "source": [
    "# Now, apply the function above to to the Weight col.\n",
    "\n",
    "df.Weight = df.Weight.apply(Weight_Convert)\n",
    "\n",
    "print(df.Weight.unique())\n",
    " \n",
    "#Since these are now in kgs, it is important to rename the column."
   ]
  },
  {
   "cell_type": "code",
   "execution_count": 48,
   "id": "f002829f-d3e8-4c3c-8d20-88f1c22fa20e",
   "metadata": {},
   "outputs": [],
   "source": [
    "#Renaming Weight Column\n",
    "df.rename(columns={\"Weight\":\"Weight(Kg)\"}, inplace=True)"
   ]
  },
  {
   "cell_type": "code",
   "execution_count": 49,
   "id": "7b528c8c-b08a-4c99-8662-5cfaa094ff4f",
   "metadata": {},
   "outputs": [],
   "source": [
    "#Adding the weight column to cleaned_cols\n",
    "\n",
    "cleaned_cols[\"Weight(Kg)\"] = pd.Series(df[\"Weight(Kg)\"].copy(), dtype=\"int64\")"
   ]
  },
  {
   "cell_type": "markdown",
   "id": "ab343def-f471-46e6-a11f-f5bebdc20610",
   "metadata": {},
   "source": [
    "* ### Height"
   ]
  },
  {
   "cell_type": "code",
   "execution_count": 50,
   "id": "f34a00c7-3ebc-4d74-9c37-6ae8ff328cb3",
   "metadata": {},
   "outputs": [
    {
     "name": "stdout",
     "output_type": "stream",
     "text": [
      "{\"'\", 'c', '8', '2', '0', '5', '1', '9', '3', '7', 'm', '6', '4', '\"'}\n",
      "['170cm' '187cm' '188cm' '181cm' '175cm' '184cm' '191cm' '178cm' '193cm'\n",
      " '185cm' '199cm' '173cm' '168cm' '176cm' '177cm' '183cm' '180cm' '189cm'\n",
      " '179cm' '195cm' '172cm' '182cm' '186cm' '192cm' '165cm' '194cm' '167cm'\n",
      " '196cm' '163cm' '190cm' '174cm' '169cm' '171cm' '197cm' '200cm' '166cm'\n",
      " '6\\'2\"' '164cm' '198cm' '6\\'3\"' '6\\'5\"' '5\\'11\"' '6\\'4\"' '6\\'1\"' '6\\'0\"'\n",
      " '5\\'10\"' '5\\'9\"' '5\\'6\"' '5\\'7\"' '5\\'4\"' '201cm' '158cm' '162cm' '161cm'\n",
      " '160cm' '203cm' '157cm' '156cm' '202cm' '159cm' '206cm' '155cm']\n"
     ]
    }
   ],
   "source": [
    "#Obtaining unique characters\n",
    "print(set(df.Height.apply(list).sum()))\n",
    "print(df.Height.unique())"
   ]
  },
  {
   "cell_type": "code",
   "execution_count": 51,
   "id": "5e2bc094-d902-40d1-9e38-80a717d656c0",
   "metadata": {},
   "outputs": [
    {
     "data": {
      "text/plain": [
       "array(['m', '\"'], dtype=object)"
      ]
     },
     "execution_count": 51,
     "metadata": {},
     "output_type": "execute_result"
    }
   ],
   "source": [
    "#Observing some inconsistenceis in measurement units. As such, I will convert all ft/in to cm\n",
    "#to define a function that will do the conversion, i will be using the unique last value as a reference\n",
    "\n",
    "df[\"Height\"].str[-1].unique()"
   ]
  },
  {
   "cell_type": "code",
   "execution_count": 52,
   "id": "ce1552ba-32ce-47ec-ae75-a44f63e9b030",
   "metadata": {},
   "outputs": [],
   "source": [
    "# define a function \n",
    "#using the unique last value as a reference of condition\n",
    "# replacing the unwanted string value with an empty string\n",
    "# converting the concerned value from its unit to centimeter(cm)\n",
    "# return the answer\n",
    "# Otherwise, preserve the other centimeter value without the cm\n",
    "\n",
    "def Height_Convert(x):\n",
    "    if x[-1] == '\"':\n",
    "        x = x.replace(\"\\\"\",\"\")\n",
    "        inch = int(x[2:]) * 2.54\n",
    "        foot = int(x[0]) * 30.48\n",
    "        return round(foot+inch)\n",
    "    elif x[-1] == \"m\":\n",
    "        return int(x[:-2])"
   ]
  },
  {
   "cell_type": "code",
   "execution_count": 53,
   "id": "8959cb57-99fa-4f7c-89cd-8ca4d37ca60d",
   "metadata": {},
   "outputs": [
    {
     "name": "stdout",
     "output_type": "stream",
     "text": [
      "[170 187 188 181 175 184 191 178 193 185 199 173 168 176 177 183 180 189\n",
      " 179 195 172 182 186 192 165 194 167 196 163 190 174 169 171 197 200 166\n",
      " 164 198 201 158 162 161 160 203 157 156 202 159 206 155]\n"
     ]
    }
   ],
   "source": [
    "#Apply the above function the Height column\n",
    "\n",
    "df[\"Height\"] = df.Height.apply(Height_Convert)\n",
    "print(df.Height.unique())"
   ]
  },
  {
   "cell_type": "code",
   "execution_count": 54,
   "id": "1b913e43-af37-4baf-a100-07c6f8e9392c",
   "metadata": {},
   "outputs": [],
   "source": [
    "#Renaming Height column to reflect the unit of meseaurement\n",
    "\n",
    "df.rename(columns={\"Height\":\"Height(cm)\"}, inplace=True)"
   ]
  },
  {
   "cell_type": "code",
   "execution_count": 55,
   "id": "907d16f3-e44d-4a1d-a846-4bee6d0d4852",
   "metadata": {},
   "outputs": [],
   "source": [
    "#Adding the column to cleaned_cols\n",
    "\n",
    "cleaned_cols[\"Height(cm)\"] = pd.Series(df[\"Height(cm)\"].copy(), dtype=\"int64\")"
   ]
  },
  {
   "cell_type": "code",
   "execution_count": 56,
   "id": "8c4d3885-9d9a-4196-bc34-418379ea60f5",
   "metadata": {},
   "outputs": [
    {
     "name": "stdout",
     "output_type": "stream",
     "text": [
      "Index(['Jersey Name', 'Full Name', 'photoUrl', 'playerUrl', 'Nationality',\n",
      "       'Club', 'Contract', 'Positions', 'Height', 'Weight', 'Preferred Foot',\n",
      "       'Best Position', 'Date Joined', 'Loan Date End', 'Value', 'Wage',\n",
      "       'Release Clause', 'Weak Foot', 'Skill Moves', 'Attack Work Rate',\n",
      "       'Defense Work Rate', 'Injury Resistance', 'Hits'],\n",
      "      dtype='object')\n"
     ]
    }
   ],
   "source": [
    "print(Cols_objects)"
   ]
  },
  {
   "cell_type": "markdown",
   "id": "2d4e62e2-5dba-4d08-a44b-f4b04b804991",
   "metadata": {},
   "source": [
    "* ### Loan Date End"
   ]
  },
  {
   "cell_type": "code",
   "execution_count": 57,
   "id": "25982e10-4566-4880-8180-20f933be4be2",
   "metadata": {},
   "outputs": [
    {
     "data": {
      "text/plain": [
       "17966"
      ]
     },
     "execution_count": 57,
     "metadata": {},
     "output_type": "execute_result"
    }
   ],
   "source": [
    "#NOTE: Previous knowledge indicates that this column contains some null values\n",
    "#Finding out the number of null values\n",
    "df[\"Loan Date End\"].isna().sum()"
   ]
  },
  {
   "cell_type": "code",
   "execution_count": 58,
   "id": "ba18171c-5d9a-4fe0-a965-98d4cf634f07",
   "metadata": {},
   "outputs": [],
   "source": [
    "#This column already has missing values way above the non-null values.\n",
    "#Since the contract column already indicates whether a player is on loan, it is reasonble to drop this column.\n",
    "#Dropping the Loan Date End column.\n",
    "\n",
    "df = df.drop(\"Loan Date End\", axis=1)"
   ]
  },
  {
   "cell_type": "markdown",
   "id": "5eab422a-906a-40f8-a9c2-ab7cd2fd56bc",
   "metadata": {},
   "source": [
    "* ### Value"
   ]
  },
  {
   "cell_type": "code",
   "execution_count": 59,
   "id": "2a085890-f4fe-48a8-b1a1-c3cb407bb591",
   "metadata": {},
   "outputs": [
    {
     "name": "stdout",
     "output_type": "stream",
     "text": [
      "{'M', '8', '2', '0', '5', '1', '3', '9', '7', '6', '4', '€', 'K', '.'}\n",
      "18020     €240K\n",
      "9657      €1.4M\n",
      "1003     €10.5M\n",
      "15423     €350K\n",
      "16354     €240K\n",
      "12782     €725K\n",
      "1314      €3.6M\n",
      "1921        €5M\n",
      "14120     €875K\n",
      "8042      €700K\n",
      "Name: Value, dtype: object\n"
     ]
    }
   ],
   "source": [
    "#Obtaining unique values\n",
    "#Previewing column\n",
    "\n",
    "print(set(df.Value.apply(list).sum()))\n",
    "print(df.Value.sample(10))\n",
    "\n",
    "#This column has some Euro sign, K(which signifies thousand) and M(signifying million).\n",
    "#It is therefore necessary to remove the euro signs and convert the Ks and Ms into their respective thousands and millions\n",
    "#I will then rename the column afterwards to reflect the currency in which the values are represented."
   ]
  },
  {
   "cell_type": "code",
   "execution_count": 60,
   "id": "01ed7bbd-dfbc-4865-8226-04e5b6dbe7e9",
   "metadata": {},
   "outputs": [],
   "source": [
    "#Defining a fumction that will;\n",
    "    #Eliminate all euro signs\n",
    "    #Convert all Ks to thousands by multiplying the values by 1000 and return answers as rounded figs.\n",
    "    #Convert all Ms to millions by multiplying the values by 1000000 and return answers as rounded figs.\n",
    "    #Possibly convert all Bs to billions by multiplying the values by 1000000000 and return answers as rounded figs.\n",
    "    #Possibly convert all zero values to floats.\n",
    "\n",
    "def Value_New(val):\n",
    "    val = val.replace('€', '')\n",
    "    \n",
    "    if  'K' in val:\n",
    "        val = val.replace('K', '')\n",
    "        val = float(val)*1000\n",
    "        return round(val)   \n",
    "    \n",
    "    elif 'M' in val:\n",
    "        val = val.replace('M','')\n",
    "        val = float(val)*1000000\n",
    "        return round(val)\n",
    "    \n",
    "    elif 'B' in val:\n",
    "        val = val.replace('B','')\n",
    "        val = float(val)*1000000000\n",
    "        return round(val)\n",
    "    \n",
    "    elif '0' in val:\n",
    "        val = float(val)\n",
    "        return round(val)"
   ]
  },
  {
   "cell_type": "code",
   "execution_count": 61,
   "id": "97004df7-cab4-4d3e-96a8-81f4591d64ef",
   "metadata": {},
   "outputs": [
    {
     "name": "stdout",
     "output_type": "stream",
     "text": [
      "10173     120000\n",
      "14835     600000\n",
      "12330    1100000\n",
      "16645     475000\n",
      "12235     475000\n",
      "2994     4600000\n",
      "7666     2300000\n",
      "7613     2100000\n",
      "9030      625000\n",
      "5581      450000\n",
      "Name: Value, dtype: int64\n"
     ]
    }
   ],
   "source": [
    "# Applying the function to the Value Column\n",
    "df.Value = df.Value.apply(Value_New)\n",
    "print(df.Value.sample(10))"
   ]
  },
  {
   "cell_type": "code",
   "execution_count": 62,
   "id": "75824b69-9c9e-457f-b069-6bfce1e0994d",
   "metadata": {},
   "outputs": [],
   "source": [
    "#Renaming the column to reflect the currency\n",
    "\n",
    "df.rename(columns={\"Value\":\"Value(€)\"}, inplace=True)"
   ]
  },
  {
   "cell_type": "code",
   "execution_count": 140,
   "id": "898491bc-7a0d-4202-ae7c-2285167f7562",
   "metadata": {},
   "outputs": [],
   "source": [
    "#Adding the new Value column to the cleaned_cols.\n",
    "\n",
    "cleaned_cols[\"Value(€)\"] = pd.Series(df[\"Value(€)\"].copy(), dtype = float)\n"
   ]
  },
  {
   "cell_type": "markdown",
   "id": "d1702ac2-bf52-4246-9e8b-3924fe93ca5f",
   "metadata": {},
   "source": [
    "* ### Wage"
   ]
  },
  {
   "cell_type": "code",
   "execution_count": 64,
   "id": "e4d58437-d87d-415b-8fbd-0717a860fa66",
   "metadata": {},
   "outputs": [
    {
     "name": "stdout",
     "output_type": "stream",
     "text": [
      "{'8', '2', '0', '5', '1', '3', '9', '7', '6', '4', '€', 'K'}\n",
      "['€560K' '€220K' '€125K' '€370K' '€270K' '€240K' '€250K' '€160K' '€260K'\n",
      " '€210K' '€310K' '€130K' '€350K' '€300K' '€190K' '€145K' '€195K' '€100K'\n",
      " '€140K' '€290K' '€82K' '€110K' '€230K' '€155K' '€200K' '€165K' '€95K'\n",
      " '€170K' '€105K' '€115K' '€150K' '€135K' '€55K' '€58K' '€81K' '€34K'\n",
      " '€120K' '€59K' '€90K' '€65K' '€56K' '€71K' '€18K' '€75K' '€47K' '€20K'\n",
      " '€84K' '€86K' '€74K' '€78K' '€27K' '€68K' '€85K' '€25K' '€46K' '€83K'\n",
      " '€54K' '€79K' '€175K' '€43K' '€49K' '€45K' '€38K' '€41K' '€39K' '€23K'\n",
      " '€51K' '€50K' '€87K' '€30K' '€14K' '€69K' '€31K' '€64K' '€53K' '€35K'\n",
      " '€21K' '€28K' '€17K' '€33K' '€70K' '€32K' '€89K' '€26K' '€40K' '€76K'\n",
      " '€72K' '€48K' '€36K' '€29K' '€60K' '€16K' '€37K' '€24K' '€52K' '€0'\n",
      " '€62K' '€73K' '€63K' '€19K' '€1K' '€66K' '€80K' '€12K' '€2K' '€42K'\n",
      " '€13K' '€900' '€57K' '€77K' '€61K' '€22K' '€67K' '€44K' '€15K' '€11K'\n",
      " '€8K' '€850' '€10K' '€88K' '€500' '€7K' '€6K' '€9K' '€5K' '€700' '€950'\n",
      " '€750' '€3K' '€650' '€600' '€4K' '€800' '€550']\n"
     ]
    }
   ],
   "source": [
    "#Obtaining unique values\n",
    "\n",
    "print(set(df.Wage.apply(list).sum()))\n",
    "print(df.Wage.unique())\n",
    "\n",
    "#This column is similar to the Value column and will be treated similarly. I will therefore apply the Value_New function on it"
   ]
  },
  {
   "cell_type": "code",
   "execution_count": 65,
   "id": "35500857-bf51-4215-ba43-6081a349d486",
   "metadata": {},
   "outputs": [],
   "source": [
    "#Applying this function to the Wage column\n",
    "\n",
    "df[\"Wage\"] = df.Wage.apply(Value_New)"
   ]
  },
  {
   "cell_type": "code",
   "execution_count": 66,
   "id": "ebb07b01-b32c-432c-83c3-2f1603a7aa82",
   "metadata": {},
   "outputs": [],
   "source": [
    "#Renaming the Wage column to reflect the Euro currency\n",
    "\n",
    "df.rename(columns={\"Wage\":\"Wage(€)\"}, inplace = True)"
   ]
  },
  {
   "cell_type": "code",
   "execution_count": 67,
   "id": "38fb60c9-d494-4c8f-bd4b-02be38f62c53",
   "metadata": {},
   "outputs": [],
   "source": [
    "#Adding column to cleaned_cols\n",
    "\n",
    "cleaned_cols[\"Wage(€)\"] = pd.Series(df[\"Wage(€)\"].copy(), dtype = float)"
   ]
  },
  {
   "cell_type": "code",
   "execution_count": 68,
   "id": "fac14528-4dfe-4a53-a0fd-e904a507e091",
   "metadata": {},
   "outputs": [
    {
     "name": "stdout",
     "output_type": "stream",
     "text": [
      "0    560000\n",
      "1    220000\n",
      "2    125000\n",
      "3    370000\n",
      "4    270000\n",
      "Name: Wage(€), dtype: int64\n"
     ]
    }
   ],
   "source": [
    "print(df[\"Wage(€)\"].head())"
   ]
  },
  {
   "cell_type": "markdown",
   "id": "057ceb00-4c6a-4ebd-9fbd-f9af3a8104f2",
   "metadata": {},
   "source": [
    "* ### Release Clause"
   ]
  },
  {
   "cell_type": "code",
   "execution_count": 69,
   "id": "e62809fc-3785-49e3-8749-4bdb9303fb2c",
   "metadata": {},
   "outputs": [
    {
     "name": "stdout",
     "output_type": "stream",
     "text": [
      "{'M', '8', '2', '0', '5', '1', '3', '9', '7', '6', '4', '€', 'K', '.'}\n",
      "['€138.4M' '€75.9M' '€159.4M' ... '€59K' '€35K' '€64K']\n"
     ]
    }
   ],
   "source": [
    "#Obtaining unique values\n",
    "\n",
    "print(set(df[\"Release Clause\"].apply(list).sum()))\n",
    "print(df[\"Release Clause\"].unique())\n",
    "\n",
    "#Now, just like the Value and Wage columns, I will be applying the Value_New function to this column."
   ]
  },
  {
   "cell_type": "code",
   "execution_count": 70,
   "id": "0b1bfe91-68d7-42df-bf18-c442c8bb4da7",
   "metadata": {},
   "outputs": [],
   "source": [
    "#Applying the function\n",
    "\n",
    "df[\"Release Clause\"] = df[\"Release Clause\"].apply(Value_New)"
   ]
  },
  {
   "cell_type": "code",
   "execution_count": 71,
   "id": "427f25bf-086d-4da2-8873-ffd96ae9cdfc",
   "metadata": {},
   "outputs": [],
   "source": [
    "#Renaming column to reflect currency\n",
    "\n",
    "df.rename(columns={\"Release Clause\":\"Release Clause(€)\"}, inplace = True)"
   ]
  },
  {
   "cell_type": "code",
   "execution_count": 72,
   "id": "b898a35b-13fb-436d-8f75-3f8dde2a8238",
   "metadata": {},
   "outputs": [
    {
     "name": "stdout",
     "output_type": "stream",
     "text": [
      "0    138400000\n",
      "1     75900000\n",
      "2    159400000\n",
      "3    161000000\n",
      "4    166500000\n",
      "Name: Release Clause(€), dtype: int64\n"
     ]
    }
   ],
   "source": [
    "print(df[\"Release Clause(€)\"].head())"
   ]
  },
  {
   "cell_type": "code",
   "execution_count": 73,
   "id": "482a2d77-fe1f-4085-9b1b-cae02dc7d272",
   "metadata": {},
   "outputs": [],
   "source": [
    "#Adding column to cleaned_cols\n",
    "\n",
    "cleaned_cols[\"Release Clause(€)\"] = pd.Series(df[\"Release Clause(€)\"].copy(), dtype = float)"
   ]
  },
  {
   "cell_type": "markdown",
   "id": "ee69941c-332e-4e68-82d1-6f4a9e69c91a",
   "metadata": {},
   "source": [
    "* ### Weak Foot"
   ]
  },
  {
   "cell_type": "code",
   "execution_count": 74,
   "id": "90f1e552-449e-42ab-8957-456e17145e9f",
   "metadata": {},
   "outputs": [
    {
     "name": "stdout",
     "output_type": "stream",
     "text": [
      "{' ', '2', '5', '3', '1', '4', '★'}\n",
      "['4 ★' '3 ★' '5 ★' '2 ★' '1 ★']\n"
     ]
    }
   ],
   "source": [
    "#Obtaining unique characters\n",
    "\n",
    "print(set(df[\"Weak Foot\"].apply(list).sum()))\n",
    "print(df[\"Weak Foot\"].unique())\n",
    "\n",
    "#This column contains a number of stars."
   ]
  },
  {
   "cell_type": "code",
   "execution_count": 75,
   "id": "f7703c83-00b6-4912-8b98-320e9d1224bb",
   "metadata": {},
   "outputs": [
    {
     "data": {
      "text/plain": [
       "0        4 ★\n",
       "1        4 ★\n",
       "2        3 ★\n",
       "3        5 ★\n",
       "4        5 ★\n",
       "        ... \n",
       "18974    2 ★\n",
       "18975    2 ★\n",
       "18976    2 ★\n",
       "18977    3 ★\n",
       "18978    3 ★\n",
       "Name: Weak Foot, Length: 18979, dtype: object"
      ]
     },
     "execution_count": 75,
     "metadata": {},
     "output_type": "execute_result"
    }
   ],
   "source": [
    "#Investigating this star for a better understanding of the column\n",
    "\n",
    "df[\"Weak Foot\"][df[\"Weak Foot\"].str.contains(\"★\")]\n",
    "\n",
    "#Okay, these stars indicates the level of star rating by each player in terms of their weak foots. The higher the star, the stronger his/her weak foot is and vice versa.\n",
    "#I will remove these stars from the values and rather indicate it by the column name."
   ]
  },
  {
   "cell_type": "code",
   "execution_count": 76,
   "id": "b6e36675-8946-470f-96d2-d09a69e9e6d3",
   "metadata": {},
   "outputs": [
    {
     "name": "stdout",
     "output_type": "stream",
     "text": [
      "0    4  \n",
      "1    4  \n",
      "2    3  \n",
      "Name: Weak Foot, dtype: object\n"
     ]
    }
   ],
   "source": [
    "#Removing all stars\n",
    "\n",
    "df[\"Weak Foot\"] = df[\"Weak Foot\"].str.replace(\"★\", \" \", regex = True)\n",
    "print(df[\"Weak Foot\"].head(3))"
   ]
  },
  {
   "cell_type": "code",
   "execution_count": 78,
   "id": "bfd2fbec-c027-484e-bf27-ff15ec530745",
   "metadata": {},
   "outputs": [
    {
     "name": "stdout",
     "output_type": "stream",
     "text": [
      "0    4  \n",
      "1    4  \n",
      "2    3  \n",
      "3    5  \n",
      "4    5  \n",
      "Name: Weak Foot(★), dtype: object\n"
     ]
    }
   ],
   "source": [
    "#Renaming column to reflect star\n",
    "\n",
    "df.rename(columns={\"Weak Foot\":\"Weak Foot(★)\"}, inplace = True)\n",
    "print(df[\"Weak Foot(★)\"].head())"
   ]
  },
  {
   "cell_type": "code",
   "execution_count": 80,
   "id": "174442c4-cb29-462a-84d4-47e3156cc7c1",
   "metadata": {},
   "outputs": [],
   "source": [
    "#Adding column to cleaned_cols\n",
    "\n",
    "cleaned_cols[\"Weak Foot(★)\"] = pd.Series(df[\"Weak Foot(★)\"].copy(), dtype=\"int64\")"
   ]
  },
  {
   "cell_type": "markdown",
   "id": "e4fba520-e0e2-423e-8ffd-ba8ec4cbe196",
   "metadata": {},
   "source": [
    "* ### Skill Moves"
   ]
  },
  {
   "cell_type": "code",
   "execution_count": 81,
   "id": "dbcc35ce-d963-4967-8957-f6348c3fb27a",
   "metadata": {},
   "outputs": [
    {
     "name": "stdout",
     "output_type": "stream",
     "text": [
      "{'2', '5', '1', '3', '4', '★'}\n",
      "['4★' '5★' '1★' '2★' '3★']\n"
     ]
    }
   ],
   "source": [
    "#Obtaining unique characters\n",
    "\n",
    "print(set(df[\"Skill Moves\"].apply(list).sum()))\n",
    "print(df[\"Skill Moves\"].unique())\n",
    "\n",
    "#This, obviously, has the same issue as the Weak Foot column"
   ]
  },
  {
   "cell_type": "code",
   "execution_count": 82,
   "id": "47c663fb-385f-40b0-9027-3ea4d4f27c00",
   "metadata": {},
   "outputs": [
    {
     "name": "stdout",
     "output_type": "stream",
     "text": [
      "15927    2★\n",
      "5658     1★\n",
      "12677    2★\n",
      "15543    1★\n",
      "4547     3★\n",
      "Name: Skill Moves, dtype: object\n"
     ]
    }
   ],
   "source": [
    "#Previewing the column for confirmation\n",
    "\n",
    "print(df[\"Skill Moves\"].sample(5))\n",
    "\n",
    "#A confirmation to the above statement"
   ]
  },
  {
   "cell_type": "code",
   "execution_count": 83,
   "id": "2df997b5-9be7-468d-af5d-fa84d37ad3f9",
   "metadata": {},
   "outputs": [
    {
     "name": "stdout",
     "output_type": "stream",
     "text": [
      "0    4 \n",
      "1    5 \n",
      "2    1 \n",
      "Name: Skill Moves, dtype: object\n"
     ]
    }
   ],
   "source": [
    "#Removing all stars\n",
    "\n",
    "df[\"Skill Moves\"] = df[\"Skill Moves\"].str.replace(\"★\", \" \", regex = True)\n",
    "print(df[\"Skill Moves\"].head(3))"
   ]
  },
  {
   "cell_type": "code",
   "execution_count": 84,
   "id": "28f36c40-aea9-40bb-bcea-aa1557db7898",
   "metadata": {},
   "outputs": [],
   "source": [
    "#Renaming column to reflect star\n",
    "\n",
    "df.rename(columns={\"Skill Moves\":\"Skill Moves(★)\"}, inplace = True)"
   ]
  },
  {
   "cell_type": "code",
   "execution_count": 85,
   "id": "fdb90176-bd06-403a-9ae3-4b083e7c56af",
   "metadata": {},
   "outputs": [],
   "source": [
    "#Adding column to cleaned_cols\n",
    "\n",
    "cleaned_cols[\"Skill Movest(★)\"] = pd.Series(df[\"Skill Moves(★)\"].copy(), dtype=\"int64\")"
   ]
  },
  {
   "cell_type": "markdown",
   "id": "fc0c7738-f886-416c-b527-70e860678037",
   "metadata": {},
   "source": [
    "* ### Attack Work Rate"
   ]
  },
  {
   "cell_type": "code",
   "execution_count": 86,
   "id": "3ee3ada2-9bfe-4e64-a788-9d1312b5af69",
   "metadata": {},
   "outputs": [
    {
     "name": "stdout",
     "output_type": "stream",
     "text": [
      "{'M', 'g', 'u', 'i', 'w', 'o', 'L', 'm', 'h', 'e', 'H', 'd'}\n",
      "['Medium' 'High' 'Low']\n"
     ]
    }
   ],
   "source": [
    "#Obtaining unique characters\n",
    "\n",
    "print(set(df[\"Attack Work Rate\"].apply(list).sum()))\n",
    "print(df[\"Attack Work Rate\"].unique())\n",
    "\n",
    "#This is clean but it is categorical hence it is crucial to convert data type into categorical"
   ]
  },
  {
   "cell_type": "code",
   "execution_count": 88,
   "id": "418e0f5e-229e-477f-99e7-13709465ffda",
   "metadata": {},
   "outputs": [],
   "source": [
    "#Converting to category and adding to the cleaned_cols\n",
    "\n",
    "cleaned_cols[\"Attack Work Rate\"] = df[\"Attack Work Rate\"].astype(\"category\")"
   ]
  },
  {
   "cell_type": "markdown",
   "id": "3f3b800e-f41d-424e-9e7a-8e90d44546ab",
   "metadata": {},
   "source": [
    "* ### Defense Work Rate"
   ]
  },
  {
   "cell_type": "code",
   "execution_count": 89,
   "id": "13bd3c45-0130-4a9f-92b2-3c877f3c6c00",
   "metadata": {},
   "outputs": [
    {
     "name": "stdout",
     "output_type": "stream",
     "text": [
      "{'M', 'g', 'w', 'i', 'u', 'o', 'L', 'm', 'h', 'e', 'H', 'd'}\n",
      "['Low' 'Medium' 'High']\n"
     ]
    }
   ],
   "source": [
    "#Obtaining unique characters\n",
    "\n",
    "print(set(df[\"Defense Work Rate\"].apply(list).sum()))\n",
    "print(df[\"Defense Work Rate\"].unique())\n",
    "\n",
    "#Just like the Attack Work Rate column, this is also clean but it is categorical hence it is crucial to convert data type into categorical"
   ]
  },
  {
   "cell_type": "code",
   "execution_count": 90,
   "id": "b3df3c39-ec9e-402b-b345-e212dfee0a97",
   "metadata": {},
   "outputs": [],
   "source": [
    "#Converting to category and adding to the cleaned_cols\n",
    "\n",
    "cleaned_cols[\"Defense Work Rate\"] = df[\"Defense Work Rate\"].astype(\"category\")"
   ]
  },
  {
   "cell_type": "markdown",
   "id": "4e699a2d-a1d2-4746-be87-1e6b501499c5",
   "metadata": {},
   "source": [
    "* ### Injury Resistance"
   ]
  },
  {
   "cell_type": "code",
   "execution_count": 91,
   "id": "3dc594c9-9fe6-4558-90ca-5c9de4c73c82",
   "metadata": {},
   "outputs": [
    {
     "name": "stdout",
     "output_type": "stream",
     "text": [
      "{' ', '2', '5', '3', '1', '4', '★'}\n",
      "['5 ★' '3 ★' '4 ★' '2 ★' '1 ★']\n"
     ]
    }
   ],
   "source": [
    "#Obtaining unique characters\n",
    "\n",
    "print(set(df[\"Injury Resistance\"].apply(list).sum()))\n",
    "print(df[\"Injury Resistance\"].unique())"
   ]
  },
  {
   "cell_type": "code",
   "execution_count": 92,
   "id": "a3d1af98-cfe2-4b87-b710-b5b5591a4f7e",
   "metadata": {},
   "outputs": [
    {
     "name": "stdout",
     "output_type": "stream",
     "text": [
      "0    5 ★\n",
      "1    5 ★\n",
      "2    3 ★\n",
      "3    4 ★\n",
      "4    5 ★\n",
      "Name: Injury Resistance, dtype: object\n"
     ]
    }
   ],
   "source": [
    "#Previewing the column\n",
    "\n",
    "print(df[\"Injury Resistance\"].head())"
   ]
  },
  {
   "cell_type": "code",
   "execution_count": 93,
   "id": "33525b76-0ad9-4b5c-8fc6-c99d6169c780",
   "metadata": {},
   "outputs": [
    {
     "name": "stdout",
     "output_type": "stream",
     "text": [
      "0    5  \n",
      "1    5  \n",
      "2    3  \n",
      "Name: Injury Resistance, dtype: object\n"
     ]
    }
   ],
   "source": [
    "#Removing all stars\n",
    "\n",
    "df[\"Injury Resistance\"] = df[\"Injury Resistance\"].str.replace(\"★\", \" \", regex = True)\n",
    "print(df[\"Injury Resistance\"].head(3))"
   ]
  },
  {
   "cell_type": "code",
   "execution_count": 94,
   "id": "131e11d7-bfff-4f1f-82db-05a30fb63d87",
   "metadata": {},
   "outputs": [],
   "source": [
    "#Renaming column to reflect star\n",
    "\n",
    "df.rename(columns={\"Injury Resistance\":\"Injury Resistance(★)\"}, inplace = True)"
   ]
  },
  {
   "cell_type": "code",
   "execution_count": 95,
   "id": "de6c9372-0222-454a-a3f9-791da6a0ed8f",
   "metadata": {},
   "outputs": [],
   "source": [
    "#Adding column to cleaned_cols\n",
    "\n",
    "cleaned_cols[\"Injury Resistance(★)\"] = pd.Series(df[\"Injury Resistance(★)\"].copy(), dtype=\"int64\")"
   ]
  },
  {
   "cell_type": "markdown",
   "id": "a0d603e7-5e7a-4d08-929d-a8974f3874d8",
   "metadata": {},
   "source": [
    "* ### Hits"
   ]
  },
  {
   "cell_type": "code",
   "execution_count": 96,
   "id": "86e66b5b-2330-43d6-9c52-6eebe47e3543",
   "metadata": {},
   "outputs": [
    {
     "data": {
      "text/plain": [
       "True"
      ]
     },
     "execution_count": 96,
     "metadata": {},
     "output_type": "execute_result"
    }
   ],
   "source": [
    "#A reminder that this column also contains some null values.\n",
    "#Confirmation of the presence of null values\n",
    "\n",
    "df[\"Hits\"].isna().any()\n",
    "\n",
    "#A proof of the existence of null values"
   ]
  },
  {
   "cell_type": "code",
   "execution_count": 97,
   "id": "bee26e8d-7f77-402a-afd9-646c9ef9186d",
   "metadata": {},
   "outputs": [
    {
     "data": {
      "text/plain": [
       "2595"
      ]
     },
     "execution_count": 97,
     "metadata": {},
     "output_type": "execute_result"
    }
   ],
   "source": [
    "#Obtaining the number of null values\n",
    "\n",
    "df[\"Hits\"].isna().sum()\n",
    "\n",
    "#Number of null values is clearly 2595\n",
    "#Something needs to be done about this"
   ]
  },
  {
   "cell_type": "code",
   "execution_count": 98,
   "id": "aafd3584-2804-4a14-91d3-ba139efc241c",
   "metadata": {},
   "outputs": [],
   "source": [
    "#First, I will fill all empty cells with \"0\"\n",
    "\n",
    "df.Hits.fillna(0, inplace = True)"
   ]
  },
  {
   "cell_type": "code",
   "execution_count": 99,
   "id": "1b324e34-44e3-434e-a1a1-dc361a4bc81e",
   "metadata": {},
   "outputs": [
    {
     "name": "stdout",
     "output_type": "stream",
     "text": [
      "['771' '562' '150' '207' '595' '248' '246' '120' '1.6K' '130' '321' '189'\n",
      " '175' '96' '118' '216' '212' '154' '205' '202' '339' '408' '103' '332'\n",
      " '86' '173' '161' '396' '1.1K' '433' '242' '206' '177' '1.5K' '198' '459'\n",
      " '117' '119' '209' '84' '187' '165' '203' '65' '336' '126' '313' '124'\n",
      " '145' '538' '182' '101' '45' '377' '99' '194' '403' '414' '593' '374'\n",
      " '245' '3.2K' '266' '299' '309' '215' '265' '211' '112' '337' '70' '159'\n",
      " '688' '116' '63' '144' '123' '71' '224' '113' '168' '61' '89' '137' '278'\n",
      " '75' '148' '176' '197' '264' '214' '247' '402' '440' '1.7K' '2.3K' '171'\n",
      " '320' '657' '87' '259' '200' '255' '253' '196' '60' '97' '85' '169' '256'\n",
      " '132' '239' '166' '121' '109' '32' '46' '122' '48' '527' '199' '282' '51'\n",
      " '1.9K' '642' '155' '323' '288' '497' '509' '79' '49' '270' '511' '80'\n",
      " '128' '115' '156' '204' '143' '140' '152' '220' '134' '225' '94' '74'\n",
      " '135' '142' '50' '77' '40' '107' '193' '179' '34' '64' '453' '57' '81'\n",
      " '28' '78' '133' '43' '425' '88' '42' '36' '233' '376' '210' '444' '100'\n",
      " '263' '98' '29' '160' '39' '257' '6' '310' '138' '62' '293' '285' '362'\n",
      " '66' '69' '58' '21' '20' '131' '38' '406' '68' '108' '110' '93' '512'\n",
      " '443' '306' '352' '422' '585' '346' '178' '841' '76' '394' '72' '172'\n",
      " '44' '407' '230' '367' '295' '157' '243' '56' '111' '326' '679' '18' '92'\n",
      " '59' '25' '184' '53' '12' '90' '55' '73' '11' '566' '180' '83' '262' '17'\n",
      " '26' '31' '280' '359' '213' '297' '387' '480' '381' '677' '486' '8' '244'\n",
      " '129' '388' '275' '319' '2K' '52' '91' '421' '153' '27' '41' '222' '35'\n",
      " '102' '23' '30' '33' '146' '13' '19' '14' '106' '276' '568' '353' '47'\n",
      " '478' '249' '254' '369' '219' '565' '237' '227' '434' '375' '162' '605'\n",
      " '654' '3' '7' '9' '104' '114' '186' '446' '756' '22' '139' '500' '67'\n",
      " '147' '149' '16' '82' '54' '37' '15' '1.3K' '3K' '952' '5' '749' '541'\n",
      " '330' '393' '517' '770' '409' '170' '125' '283' '342' '363' '580' '105'\n",
      " '217' '24' '141' '10' '427' '158' '426' '4' '666' '181' '324' '979'\n",
      " '1.4K' '302' '751' '298' '411' '944' '2' '947' '292' '349' '621' '1'\n",
      " '2.8K' '338' '287' '261' '218' '1.8K' '240' '279' '229' '188' '315' '664'\n",
      " '613' '190' '706' '127' '462' '386' '695' '491' '167' '281' '250' '307'\n",
      " '95' '231' '174' '680' '633' '221' '348' '602' '183' '653' '195' '164'\n",
      " '151' '258' '8.4K' '343' '419' '655' '136' '399' '531' '357' '228' '385'\n",
      " '312' '340' '238' '487' '355' '499' '4.3K' '296' '515' '943' '1.2K' '903'\n",
      " '335' '191' '594' '267' '617' '516' '504' '331' '652' '410' '550' '473'\n",
      " '442' '344' '208' '1K' '2.5K' '273' '485' '826' '192' '405' '941' '477'\n",
      " '644' '303' '417' '6K' 0]\n"
     ]
    }
   ],
   "source": [
    "#Obtaining unique values\n",
    "\n",
    "print(df.Hits.unique())\n",
    "\n",
    "#Observing some K in there. These K indicates that the values are in thousands"
   ]
  },
  {
   "cell_type": "code",
   "execution_count": 105,
   "id": "0a5f47c6-6289-4b6f-86f6-16b499cc028d",
   "metadata": {},
   "outputs": [],
   "source": [
    "#Dealing with integers\n",
    "\n",
    "df[\"Hits\"] = df[\"Hits\"].astype(str)"
   ]
  },
  {
   "cell_type": "code",
   "execution_count": 106,
   "id": "83a577c1-e4bb-40b8-9c4b-0159679c7520",
   "metadata": {},
   "outputs": [],
   "source": [
    "#Creating a function that will;\n",
    "#Replace all K with empty strings. \n",
    "#Multiply K related values by 1000. \n",
    "#Convert the values into floats.\n",
    "\n",
    "def Hits_Clean(y):\n",
    "    if \"K\" in y:\n",
    "        y = y.replace(\"K\", \" \")        \n",
    "        y = float(y)*1000\n",
    "        return round(y)\n",
    "    \n",
    "    else:\n",
    "        y = float(y)\n",
    "        return round(y)"
   ]
  },
  {
   "cell_type": "code",
   "execution_count": 107,
   "id": "d297b8a8-b0a1-41cb-9dc6-bb40dc9b07e7",
   "metadata": {},
   "outputs": [],
   "source": [
    "#Applying the above function to the Hits Column\n",
    "\n",
    "df[\"Hits\"] = df.Hits.apply(Hits_Clean)"
   ]
  },
  {
   "cell_type": "code",
   "execution_count": 128,
   "id": "9f422303-5688-4329-87ff-5b965515c1ef",
   "metadata": {},
   "outputs": [
    {
     "name": "stdout",
     "output_type": "stream",
     "text": [
      "1739        9\n",
      "14978       5\n",
      "11035      19\n",
      "4931        5\n",
      "18762       0\n",
      "9201        2\n",
      "14304       7\n",
      "8402        2\n",
      "10573       6\n",
      "106      2300\n",
      "17711       0\n",
      "15863       3\n",
      "16624       0\n",
      "17876       0\n",
      "17975       0\n",
      "366        88\n",
      "4976       41\n",
      "6188       32\n",
      "12795       1\n",
      "14388       1\n",
      "Name: Hits, dtype: int64\n"
     ]
    }
   ],
   "source": [
    "#Observing the work done\n",
    "print(df.Hits.sample(20))"
   ]
  },
  {
   "cell_type": "code",
   "execution_count": 131,
   "id": "cadd0ab4-c5a2-4e66-837c-76df1401b9e2",
   "metadata": {},
   "outputs": [],
   "source": [
    "#Adding the column to the cleaned_cols\n",
    "\n",
    "cleaned_cols[\"Hits\"] = df[\"Hits\"].astype(\"int64\")"
   ]
  },
  {
   "cell_type": "code",
   "execution_count": 141,
   "id": "e281c584-17a3-488a-959e-58503d3aa5e1",
   "metadata": {},
   "outputs": [
    {
     "name": "stdout",
     "output_type": "stream",
     "text": [
      "<class 'pandas.core.frame.DataFrame'>\n",
      "RangeIndex: 18979 entries, 0 to 18978\n",
      "Data columns (total 76 columns):\n",
      " #   Column                Non-Null Count  Dtype   \n",
      "---  ------                --------------  -----   \n",
      " 0   Player ID             18979 non-null  int64   \n",
      " 1   Age                   18979 non-null  int64   \n",
      " 2   Overall Rating        18979 non-null  int64   \n",
      " 3   Potential Rating      18979 non-null  int64   \n",
      " 4   Best Overall Rating   18979 non-null  int64   \n",
      " 5   Attacking             18979 non-null  int64   \n",
      " 6   Crossing              18979 non-null  int64   \n",
      " 7   Finishing             18979 non-null  int64   \n",
      " 8   Heading Accuracy      18979 non-null  int64   \n",
      " 9   Short Passing         18979 non-null  int64   \n",
      " 10  Volleys               18979 non-null  int64   \n",
      " 11  Skill                 18979 non-null  int64   \n",
      " 12  Dribbling             18979 non-null  int64   \n",
      " 13  Curve                 18979 non-null  int64   \n",
      " 14  FK Accuracy           18979 non-null  int64   \n",
      " 15  Long Passing          18979 non-null  int64   \n",
      " 16  Ball Control          18979 non-null  int64   \n",
      " 17  Movement              18979 non-null  int64   \n",
      " 18  Acceleration          18979 non-null  int64   \n",
      " 19  Sprint Speed          18979 non-null  int64   \n",
      " 20  Agility               18979 non-null  int64   \n",
      " 21  Reactions             18979 non-null  int64   \n",
      " 22  Balance               18979 non-null  int64   \n",
      " 23  Power                 18979 non-null  int64   \n",
      " 24  Shot Power            18979 non-null  int64   \n",
      " 25  Jumping               18979 non-null  int64   \n",
      " 26  Stamina               18979 non-null  int64   \n",
      " 27  Strength              18979 non-null  int64   \n",
      " 28  Long Shots            18979 non-null  int64   \n",
      " 29  Mentality             18979 non-null  int64   \n",
      " 30  Aggression            18979 non-null  int64   \n",
      " 31  Interceptions         18979 non-null  int64   \n",
      " 32  Positioning           18979 non-null  int64   \n",
      " 33  Vision                18979 non-null  int64   \n",
      " 34  Penalties             18979 non-null  int64   \n",
      " 35  Composure             18979 non-null  int64   \n",
      " 36  Defending             18979 non-null  int64   \n",
      " 37  Marking               18979 non-null  int64   \n",
      " 38  Standing Tackle       18979 non-null  int64   \n",
      " 39  Sliding Tackle        18979 non-null  int64   \n",
      " 40  Goalkeeping           18979 non-null  int64   \n",
      " 41  GK Diving             18979 non-null  int64   \n",
      " 42  GK Handling           18979 non-null  int64   \n",
      " 43  GK Kicking            18979 non-null  int64   \n",
      " 44  GK Positioning        18979 non-null  int64   \n",
      " 45  GK Reflexes           18979 non-null  int64   \n",
      " 46  Total Stats           18979 non-null  int64   \n",
      " 47  Base Stats            18979 non-null  int64   \n",
      " 48  Pace                  18979 non-null  int64   \n",
      " 49  Shooting Ability      18979 non-null  int64   \n",
      " 50  Passing Ability       18979 non-null  int64   \n",
      " 51  Dribbling Ability     18979 non-null  int64   \n",
      " 52  Defensive Ability     18979 non-null  int64   \n",
      " 53  Physicality           18979 non-null  int64   \n",
      " 54  Jersey Name           18979 non-null  object  \n",
      " 55  Full Name             18979 non-null  object  \n",
      " 56  photoUrl              18979 non-null  object  \n",
      " 57  playerUrl             18979 non-null  object  \n",
      " 58  Nationality           18979 non-null  object  \n",
      " 59  Club                  18979 non-null  object  \n",
      " 60  Contract              18979 non-null  object  \n",
      " 61  Positions             18979 non-null  object  \n",
      " 62  Preferred Foot        18979 non-null  category\n",
      " 63  Best Position         18979 non-null  category\n",
      " 64  Date Joined           18979 non-null  object  \n",
      " 65  Weight(Kg)            18979 non-null  int64   \n",
      " 66  Height(cm)            18979 non-null  int64   \n",
      " 67  Value(€)              18979 non-null  float64 \n",
      " 68  Wage(€)               18979 non-null  float64 \n",
      " 69  Release Clause(€)     18979 non-null  float64 \n",
      " 70  Weak Foot(★)          18979 non-null  int64   \n",
      " 71  Skill Movest(★)       18979 non-null  int64   \n",
      " 72  Attack Work Rate      18979 non-null  category\n",
      " 73  Defense Work Rate     18979 non-null  category\n",
      " 74  Injury Resistance(★)  18979 non-null  int64   \n",
      " 75  Hits                  18979 non-null  int64   \n",
      "dtypes: category(4), float64(3), int64(60), object(9)\n",
      "memory usage: 10.5+ MB\n",
      "None\n"
     ]
    }
   ],
   "source": [
    "#Finally, this brings me to the end of my data cleaning!!!\n",
    "#Obtaining the full list of all cleaned columns\n",
    "\n",
    "print(cleaned_cols.info())"
   ]
  }
 ],
 "metadata": {
  "kernelspec": {
   "display_name": "Python 3 (ipykernel)",
   "language": "python",
   "name": "python3"
  },
  "language_info": {
   "codemirror_mode": {
    "name": "ipython",
    "version": 3
   },
   "file_extension": ".py",
   "mimetype": "text/x-python",
   "name": "python",
   "nbconvert_exporter": "python",
   "pygments_lexer": "ipython3",
   "version": "3.9.13"
  }
 },
 "nbformat": 4,
 "nbformat_minor": 5
}
